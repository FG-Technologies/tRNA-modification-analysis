{
 "cells": [
  {
   "cell_type": "markdown",
   "id": "1f31a260-365c-486c-a77b-024b1b62ecec",
   "metadata": {},
   "source": [
    "# Signal alignment comparison between f5c and Remora"
   ]
  },
  {
   "cell_type": "markdown",
   "id": "96933f9a-e389-41cb-b767-5616aeb75220",
   "metadata": {},
   "source": [
    "This notebooks aims to visualise the global differences in signal alignments made by f5c and Remora.\n",
    "Content of this notebook:\n",
    "1. Import of required python packages\n",
    "2. Functions\n",
    "3. Data loading\n",
    "4. Signal coverage\n",
    "5. Dwell analysis"
   ]
  },
  {
   "cell_type": "markdown",
   "id": "ee103909-605e-4e3f-925f-50f87ebffd7a",
   "metadata": {},
   "source": [
    "## 1. Import of required python packages"
   ]
  },
  {
   "cell_type": "code",
   "execution_count": null,
   "id": "59ddf1b6-8936-4aea-b610-1ca73c034911",
   "metadata": {},
   "outputs": [],
   "source": [
    "# ---- General packages ----\n",
    "import logging\n",
    "import pickle\n",
    "import random\n",
    "import numpy as np\n",
    "import pandas as pd\n",
    "import pingouin as pg\n",
    "from datetime import datetime\n",
    "from pathlib import Path\n",
    "import polars as pl\n",
    "import patchworklib as pw\n",
    "import matplotlib.pyplot as plt\n",
    "from matplotlib.lines import Line2D\n",
    "import seaborn as sns\n",
    "\n",
    "# ---- Specific packages for input ----\n",
    "import pod5\n",
    "from pod5 import DatasetReader\n",
    "import pysam\n",
    "from remora import io, refine_signal_map, util\n",
    "\n",
    "# Silence Remora DEBUG messages\n",
    "logging.getLogger(\"Remora\").setLevel(logging.INFO)"
   ]
  },
  {
   "cell_type": "markdown",
   "id": "8cc34d51-ed23-4e1d-b42c-8ba38e50b17c",
   "metadata": {},
   "source": [
    "## 2. Functions"
   ]
  },
  {
   "cell_type": "code",
   "execution_count": null,
   "id": "57c92c69-24d2-4d51-a808-fb8de6821b45",
   "metadata": {
    "jupyter": {
     "source_hidden": true
    }
   },
   "outputs": [],
   "source": [
    "def convert_kmers_to_base_positions(\n",
    "    df, \n",
    "    center_index =5):\n",
    "\n",
    "    \"\"\"\n",
    "    Goal: this function assigns the mean signal level per k-mer to the center position within k-mer.\n",
    "    Parameters:\n",
    "        df: pd.DataFrame, made from .tsv output of f5c\n",
    "        center_index: int, the index of the center base position within k-mer\n",
    "    \"\"\"\n",
    "    # Add column with the center base position\n",
    "    df = df.rename(columns={'position': 'kmer_position'})\n",
    "    kmer_positions = df['kmer_position']\n",
    "    kmer_positions_list = list(kmer_positions)\n",
    "    base_positions_list = [kmer_position + center_index for kmer_position in kmer_positions]\n",
    "    df.insert(2, \"base_position\", base_positions_list)\n",
    "\n",
    "    # Add column with the center base\n",
    "    reference_kmers = df['reference_kmer']\n",
    "    reference_kmers_list = list(reference_kmers)\n",
    "    reference_base_list = [reference_kmer[center_index] for reference_kmer in reference_kmers_list]\n",
    "    df.insert(4, \"reference_base\", reference_base_list)\n",
    "\n",
    "    return df"
   ]
  },
  {
   "cell_type": "code",
   "execution_count": null,
   "id": "c9383afe-efac-43d3-af05-3f482ed25038",
   "metadata": {
    "jupyter": {
     "source_hidden": true
    }
   },
   "outputs": [],
   "source": [
    "def remora_coverage_df(\n",
    "    list_of_samples_metrics,\n",
    "    positions_range=[0, 100]):\n",
    "    \"\"\"\n",
    "    Goal: create a DataFrame with coverage per position across multiple samples for Remora output.\n",
    "\n",
    "    Parameters:\n",
    "        list_of_samples_metrics: list of metric dicts for each sample\n",
    "        positions_range: range of positions to visualize on x-axis\n",
    "    Returns:\n",
    "        coverage_results: DataFrame with coverage per position per sample\n",
    "    \"\"\"\n",
    "    filtered_samples = [sample for sample in list_of_samples_metrics if sample is not None]\n",
    "\n",
    "    # Convert all samples to DataFrames\n",
    "    sample_dfs = [pd.DataFrame(sample[0]['trimmean']) for sample in filtered_samples]\n",
    "\n",
    "    positions_ref_reg = list(range(positions_range[0], positions_range[1]))\n",
    "    results = []\n",
    "\n",
    "    for pos in positions_ref_reg:\n",
    "        row = {'position': pos}\n",
    "        for idx, df in enumerate(sample_dfs):\n",
    "            col_data = df[pos].dropna() if pos in df.columns else pd.Series(dtype=float)\n",
    "            row[f'num_sample_{idx+1}'] = len(col_data)\n",
    "        results.append(row)\n",
    "\n",
    "    coverage_results = pd.DataFrame(results)\n",
    "    return coverage_results"
   ]
  },
  {
   "cell_type": "code",
   "execution_count": null,
   "id": "588cf739-5f3b-41b4-95ce-9beb3af8c24f",
   "metadata": {
    "jupyter": {
     "source_hidden": true
    }
   },
   "outputs": [],
   "source": [
    "def f5c_coverage_df(\n",
    "    *f5c_outputs, \n",
    "    positions_range=[0, 100]\n",
    "):\n",
    "    \"\"\"\n",
    "    Goal: create a DataFrame with coverage per position across multiple samples for f5c output.\n",
    "    \"\"\"\n",
    "    list_of_positions = list(range(positions_range[0], positions_range[1]+1))\n",
    "    coverage_results = []\n",
    "    for position in list_of_positions:\n",
    "        result = {'position': position}\n",
    "        for i, df in enumerate(f5c_outputs, start=1):\n",
    "            coverage = df[df['base_position'] == position]['read_name'].nunique()\n",
    "            result[f'Coverage_{i}'] = coverage\n",
    "        coverage_results.append(result)\n",
    "    # Convert to DataFrame\n",
    "    coverage_df = pd.DataFrame(coverage_results)\n",
    "    return coverage_df"
   ]
  },
  {
   "cell_type": "markdown",
   "id": "a3716309-616f-4c86-ada1-03315e3ac14c",
   "metadata": {},
   "source": [
    "### Plotting functions"
   ]
  },
  {
   "cell_type": "code",
   "execution_count": null,
   "id": "a9235880-5fdf-496a-815c-c0aeb7f3212c",
   "metadata": {
    "jupyter": {
     "source_hidden": true
    }
   },
   "outputs": [],
   "source": [
    "def plot_coverage_lines(\n",
    "    coverage_df, \n",
    "    sample_labels=None, \n",
    "    title=None,\n",
    "    legend = 'yes',\n",
    "    alpha_lines = 1,\n",
    "    colors = ['#0072B2', '#E69F00', '#009E73'],\n",
    "    yticks=(0, 20000, 1000)\n",
    "):\n",
    "    \"\"\"\n",
    "    Plot coverage line plot for an arbitrary number of samples over positions.\n",
    "\n",
    "    Parameters:\n",
    "        coverage_df: pandas DataFrame with columns ['position', 'num_sample_1', ..., 'num_sample_N']\n",
    "        sample_labels: list[str], optional list of labels for the samples; must match number of sample columns\n",
    "        title: str, title for the plot\n",
    "        legend: str, whether to plot the legend or not\n",
    "        alpha_lines: float, transparency of the lines\n",
    "        colors: list[str], the colours to use\n",
    "        yticks: tuple, indicating the start of y-axis, end of y-axis and the step size for the yticks\n",
    "    \"\"\"\n",
    "    plt.figure(figsize=(8, 4))\n",
    "\n",
    "    # Extract sample columns (exclude 'position')\n",
    "    sample_columns = [col for col in coverage_df.columns if col != 'position']\n",
    "\n",
    "    # Use default labels if none provided\n",
    "    if sample_labels is None:\n",
    "        sample_labels = sample_columns  # Use column names as labels\n",
    "    elif len(sample_labels) != len(sample_columns):\n",
    "        raise ValueError(\"Length of sample_labels must match the number of sample columns in coverage_df.\")\n",
    "\n",
    "\n",
    "    # Plot each sample line\n",
    "    for i, col in enumerate(sample_columns):\n",
    "        plt.plot(\n",
    "            coverage_df['position'], \n",
    "            coverage_df[col], \n",
    "            label=sample_labels[i], \n",
    "            color=colors[i % len(colors)],\n",
    "            alpha = alpha_lines,\n",
    "            linewidth=1\n",
    "        )\n",
    "    # Plot a horizontal red line to indicate the threshold used in downstream analysis\n",
    "    plt.axhline(y=30, color='red', linestyle='--', linewidth=1, label='Minimum signal coverage\\nthreshold (n=30)')\n",
    "\n",
    "    plt.xlabel('Position', fontsize = 11)\n",
    "    plt.ylabel('Absolute number of reads', fontsize = 11)\n",
    "    if title:\n",
    "        plt.title(title)\n",
    "    if legend == 'yes':\n",
    "        plt.legend(loc='center left',  bbox_to_anchor=(1.0, 0.5), fontsize=11)\n",
    "    plt.ylim(yticks[0], yticks[1])\n",
    "    plt.xlim(0,90)\n",
    "    plt.xticks(ticks=range(0, 91, 10),fontsize=11)  # x-axis tick labels\n",
    "    plt.yticks(ticks= range(yticks[0], yticks[1], yticks[2]), fontsize=11) \n",
    "    plt.grid(True, linestyle='--', alpha=0.4)\n",
    "    plt.tight_layout()\n",
    "    plt.show()"
   ]
  },
  {
   "cell_type": "code",
   "execution_count": null,
   "id": "14ddd45d-5c2b-461a-9ca3-04b242c5e13f",
   "metadata": {
    "jupyter": {
     "source_hidden": true
    }
   },
   "outputs": [],
   "source": [
    "def plot_coverage_lines_Remora_vs_f5c(\n",
    "    coverage_df_Remora, coverage_df_f5c, \n",
    "    sample_labels=None, \n",
    "    title=None, \n",
    "    ylim=(0, 20000),\n",
    "    plot_legend= 'yes'):\n",
    "    \"\"\"\n",
    "    Plot coverage line plot for three tRNAs for two both signal alignment outputs over positions.\n",
    "\n",
    "    Parameters:\n",
    "        df: DataFrame with columns ['Position', 'Sample1', 'Sample2']\n",
    "        sample_labels: List of two labels for the samples\n",
    "        title: Optional title for the plot\n",
    "        ylim: the range of the y-axis\n",
    "    \"\"\"\n",
    "    if sample_labels is None:\n",
    "        sample_labels = ['tRNA_1_Remora', 'tRNA_2_Remora', 'tRNA_3_Remora', 'tRNA_1_f5c', 'tRNA_2_f5c', 'tRNA_3_f5c']\n",
    "    colors = ['#0072B2', '#E69F00', '#009E73']\n",
    "    if plot_legend is not 'yes':\n",
    "        plt.figure(figsize= (5,4))\n",
    "    else:\n",
    "        plt.figure(figsize=(8,4))\n",
    "\n",
    "    \n",
    "    # Plotting the Remora signal coverages\n",
    "    plt.plot(coverage_df_Remora['position'], \n",
    "             coverage_df_Remora.iloc[:, 1], label=sample_labels[0], color=colors[0], linewidth=1, linestyle='-')\n",
    "    plt.plot(coverage_df_Remora['position'], \n",
    "             coverage_df_Remora.iloc[:, 2], label=sample_labels[1], color=colors[1], linewidth=1, linestyle='-')\n",
    "    plt.plot(coverage_df_Remora['position'],\n",
    "             coverage_df_Remora.iloc[:, 3], label=sample_labels[2], color=colors[2], linewidth=1, linestyle='-')\n",
    "    # Plotting the f5c signal coverages\n",
    "    plt.plot(coverage_df_f5c['position'],\n",
    "             coverage_df_f5c.iloc[:, 1], label=sample_labels[3], color=colors[0], linewidth=1, linestyle=':')\n",
    "    plt.plot(coverage_df_f5c['position'],\n",
    "             coverage_df_f5c.iloc[:, 2], label=sample_labels[4], color=colors[1], linewidth=1, linestyle=':')\n",
    "    plt.plot(coverage_df_f5c['position'], \n",
    "             coverage_df_f5c.iloc[:, 3], label=sample_labels[5], color=colors[2], linewidth=1, linestyle=':')\n",
    "    plt.axhline(y=30, color='red', linestyle='--', linewidth=1, label='Minimum signal coverage\\nthreshold (n=30)')\n",
    "\n",
    "    plt.xlabel(\"Base position\", fontsize = 12)\n",
    "    plt.ylabel('Absolute number of reads', fontsize = 12)\n",
    "    if title:\n",
    "        plt.title(title)\n",
    "\n",
    "    # Making nice legend\n",
    "    # Custom legend: one entry per sample, paired by color and labeled by method\n",
    "    custom_lines = [\n",
    "    Line2D([0], [0], color=colors[0], linestyle='-', linewidth=1, label=sample_labels[0]),\n",
    "    Line2D([0], [0], color=colors[0], linestyle=':', linewidth=1, label=sample_labels[3]),\n",
    "    Line2D([0], [0], color=colors[1], linestyle='-', linewidth=1, label=sample_labels[1]),\n",
    "    Line2D([0], [0], color=colors[1], linestyle=':', linewidth=1, label=sample_labels[4]),\n",
    "    Line2D([0], [0], color=colors[2], linestyle='-', linewidth=1, label=sample_labels[2]),\n",
    "    Line2D([0], [0], color=colors[2], linestyle=':', linewidth=1, label=sample_labels[5]),\n",
    "    ]\n",
    "    custom_lines.append(Line2D([0], [0], color='red', linestyle='--', linewidth=1, label='Minimum signal coverage\\nthreshold (n=30)'))\n",
    "\n",
    "    if plot_legend == 'yes':\n",
    "        plt.legend(handles=custom_lines, loc='center left', bbox_to_anchor=(1.0, 0.5), fontsize=11, ncol=1)\n",
    "\n",
    "    plt.ylim(ylim)\n",
    "    plt.xlim(0, 90)\n",
    "    plt.grid(True, linestyle='--', alpha=0.4)\n",
    "    plt.xticks(ticks=range(0, 100, 10),fontsize=12)  # x-axis tick labels\n",
    "    plt.yticks(fontsize=12) \n",
    "    plt.tight_layout()\n",
    "    plt.show()"
   ]
  },
  {
   "cell_type": "code",
   "execution_count": null,
   "id": "75437910-ff1c-4312-a3c4-97a815ffc88d",
   "metadata": {
    "jupyter": {
     "source_hidden": true
    }
   },
   "outputs": [],
   "source": [
    "def plot_median_dwell_and_stats_f5c(\n",
    "    df_dict, \n",
    "    custom_palette={\n",
    "    \"Leu-CAA-1\": \"#0072B2\",  \n",
    "    \"Glu-CTC-1\": \"#E69F00\",  \n",
    "    \"Gly-GCC-2\": \"#009E73\"\n",
    "    },\n",
    "    title= None,\n",
    "    legend = 'yes',\n",
    "):\n",
    "    \"\"\"\n",
    "    Goal: Prints median dwell stats for each tRNA dataset and plots them.\n",
    "\n",
    "    Parameters\n",
    "        df_dict: dict, dictionary with keys as tRNA names and values as DataFrames.\n",
    "            Each DataFrame must have columns: [\"base_position\", \"dwell\", \"tRNA\"].\n",
    "        custom_palette: dict, dictionary mapping tRNA names to hex color codes.\n",
    "        title: str, title of plot\n",
    "        legend: str, 'yes' to plot legend\n",
    "    \"\"\"\n",
    "\n",
    "    # 1. Print stats\n",
    "    for name, df in df_dict.items():\n",
    "        print(f\"--- Median Dwell Stats for {name} ---\")\n",
    "        print(f\"Minimum: {df['dwell'].min():.2f}\")\n",
    "        print(f\"Maximum: {df['dwell'].max():.2f}\")\n",
    "        print(f\"Median:  {df['dwell'].median():.2f}\")\n",
    "        print(f\"Mean:    {df['dwell'].mean():.2f}\")\n",
    "        print(f\"Std:     {df['dwell'].std():.2f}\")\n",
    "        print()\n",
    "\n",
    "    # 2. Combine data\n",
    "    median_combined = pd.concat(df_dict.values(), ignore_index=True)\n",
    "\n",
    "    # 3. Plot\n",
    "    plt.figure(figsize=(10, 5))\n",
    "    sns.scatterplot(\n",
    "        data=median_combined,\n",
    "        x=\"base_position\",\n",
    "        y=\"dwell\",\n",
    "        hue=\"tRNA\",\n",
    "        palette=custom_palette,\n",
    "        marker=\"o\"\n",
    "    )\n",
    "\n",
    "    plt.title(title)\n",
    "    plt.xlabel(\"Base Position\")\n",
    "    plt.ylabel(\"Median Dwell Time\")\n",
    "    plt.yticks(np.arange(0, 240, 20))\n",
    "    plt.ylim(0, 220)\n",
    "    if legend == 'yes':\n",
    "        plt.legend(loc='center left',  bbox_to_anchor=(1.0, 0.5), fontsize=11)\n",
    "    plt.grid(True)\n",
    "    plt.tight_layout()\n",
    "    plt.show()"
   ]
  },
  {
   "cell_type": "code",
   "execution_count": null,
   "id": "aa568a9c-6bf3-420e-b136-c45941d97c65",
   "metadata": {
    "jupyter": {
     "source_hidden": true
    }
   },
   "outputs": [],
   "source": [
    "def plot_median_dwell_and_stats_remora(\n",
    "    df_dict, \n",
    "    custom_palette={\n",
    "    \"Leu-CAA-1\": \"#0072B2\",  \n",
    "    \"Glu-CTC-1\": \"#E69F00\",  \n",
    "    \"Gly-GCC-2\": \"#009E73\"\n",
    "    },\n",
    "    title= None,\n",
    "    legend = 'yes',\n",
    "):\n",
    "    \"\"\"\n",
    "    Goal: Prints median dwell stats for each tRNA dataset and plots them.\n",
    "\n",
    "    Parameters\n",
    "        df_dict: dict, dictionary with keys as tRNA names and values as DataFrames.\n",
    "            Each DataFrame must have columns: [\"base_position\", \"dwell\", \"tRNA\"].\n",
    "        custom_palette: dict, dictionary mapping tRNA names to hex color codes.\n",
    "        title: str, title of plot\n",
    "        legend: str, 'yes' to plot legend\n",
    "    \"\"\"\n",
    "\n",
    "    # Print stats\n",
    "    for name, df in df_dict.items():\n",
    "        print(f\"--- Dwell Stats for {name} ---\")\n",
    "        print(f\"Minimum: {df.min().min():.2f}\")\n",
    "        print(f\"Maximum: {df.max().max():.2f}\")\n",
    "        print(f\"Median:  {df.stack().median():.2f}\")\n",
    "        print(f\"Mean:    {df.stack().mean():.2f}\")\n",
    "        print(f\"Std:    {df.stack().std():.2f}\")\n",
    "        print()\n",
    "\n",
    "    # 2. Compute medians\n",
    "    median_dfs = []\n",
    "    for name, df in df_dict.items():\n",
    "        median_series = df.median()\n",
    "        median_df = pd.DataFrame({\n",
    "            \"position\": median_series.index.astype(int),\n",
    "            \"tRNA\": name,\n",
    "            \"dwell\": median_series.values\n",
    "        })\n",
    "        median_dfs.append(median_df)\n",
    "    # Melt the wide df_median into long format\n",
    "    df_long = pd.concat(median_dfs, ignore_index=True)\n",
    "\n",
    "\n",
    "    # Define custom colors\n",
    "    custom_palette = { \"Leu-CAA-1\": \"#0072B2\",\"Glu-CTC-1\": \"#E69F00\", \"Gly-GCC-2\": \"#009E73\"}\n",
    "\n",
    "\n",
    "    plt.figure(figsize=(10, 5))\n",
    "    sns.scatterplot(data=df_long, x=\"position\", y=\"dwell\", hue=\"tRNA\", palette=custom_palette,marker=\"o\")\n",
    "\n",
    "    plt.title(title)\n",
    "    plt.xlabel(\"Base Position\")\n",
    "    plt.ylabel(\"Median Dwell Time\")\n",
    "    plt.ylim(0, 200)\n",
    "    plt.yticks(np.arange(0, 200,20))\n",
    "    if legend == 'yes':\n",
    "        plt.legend(loc='center left',  bbox_to_anchor=(1.0, 0.5), fontsize=11)\n",
    "    plt.grid(True)\n",
    "    plt.tight_layout()\n",
    "    plt.show()"
   ]
  },
  {
   "cell_type": "markdown",
   "id": "d66f2ba9-4f37-4301-bbfe-30d56c4f57c6",
   "metadata": {},
   "source": [
    "## 3. Data loading and preparation"
   ]
  },
  {
   "cell_type": "markdown",
   "id": "18b07008-8436-457d-a2f2-a197680e336a",
   "metadata": {},
   "source": [
    "### For Remora\n",
    "See Remora_ionic_current_analysis_tRNAs.ipynb notebook for more details."
   ]
  },
  {
   "cell_type": "code",
   "execution_count": null,
   "id": "3a4b79e1-75f5-4dd4-9013-78480e71c093",
   "metadata": {},
   "outputs": [],
   "source": [
    "start_time = datetime.now()\n",
    "print(f\"Started at: {start_time}\")\n",
    "\n",
    "# Load the pod5 and bam files for both samples\n",
    "data_root = Path(\"/path/to/data\")\n",
    "\n",
    "print(\"IVT_Leu_CAA_1\")\n",
    "pod5_dr_IVT_Leu = pod5.DatasetReader(data_root /\"IVT_Leu_CAA_1.pod5\") \n",
    "bam_fh_IVT_Leu = io.ReadIndexedBam(data_root/\"IVT_Leu_CAA_1_selected_reads_primary_tagged.bam\")\n",
    "\n",
    "print(\"IVT_Glu_CTC_1\")\n",
    "pod5_dr_IVT_Glu = pod5.DatasetReader(data_root /\"IVT_Glu_CTC_1_1.pod5\") \n",
    "bam_fh_IVT_Glu = io.ReadIndexedBam(data_root/\"IVT_Glu_CTC_1_selected_reads_primary_tagged.bam\")\n",
    "\n",
    "print(\"IVT_Gly_GCC_2\")\n",
    "pod5_dr_IVT_Gly = pod5.DatasetReader(data_root /\"IVT_Gly_GCC_2.pod5\") \n",
    "bam_fh_IVT_Gly = io.ReadIndexedBam(data_root/\"IVT_Gly_GCC_2_selected_reads_primary_tagged.bam\")\n",
    "\n",
    "print(\"Biological sample\")\n",
    "pod5_dr_bio = pod5.DatasetReader(data_root/\"bio_reads.pod5\")\n",
    "bam_fh_bio = io.ReadIndexedBam(data_root/\"bio_selected_reads_primary_tagged.bam\")\n",
    "\n",
    "\n",
    "# Load the kmer-model table and set the signal mapping refiner\n",
    "level_table = data_root/\"9mer_levels_v1.txt\"\n",
    "sig_map_refiner = refine_signal_map.SigMapRefiner(\n",
    "    kmer_model_filename=level_table,\n",
    "    do_rough_rescale=True,\n",
    "    scale_iters=1,\n",
    "    do_fix_guage=True,\n",
    "    sd_params=(50, 15, 1.5),\n",
    "    half_bandwidth = 10\n",
    ")\n",
    "print(f\"\\nSignal Map Refiner:\")\n",
    "print(sig_map_refiner)\n",
    "print(f\"The parameters of the dwell_penalty algorithm are set to: {sig_map_refiner.sd_params}\")\n",
    "\n",
    "# Assigning the 6th base within each k-mer as dominant in order to convert signals-per-kmer to signals-per-base\n",
    "sig_map_refiner.center_idx = 5\n",
    "print(f\"The index of the central base within k-mer is set to: {sig_map_refiner.center_idx}\")\n",
    "print(\"\\n\")\n",
    "\n",
    "# Conduct signal alignment and calculate the trimmed mean signal levels for both samples\n",
    "## For biological sample, three tRNAs\n",
    "print(f\"Signal alignment for biological sample:\")\n",
    "ref_reg_Leu = io.RefRegion(ctg=\"Homo_sapiens_tRNA-Leu-CAA-1-1-WI\", strand=\"+\", start=0, end=100)\n",
    "start_time = datetime.now()\n",
    "samples_metrics_bio_Leu, all_bam_reads = io.get_ref_reg_samples_metrics(\n",
    "    ref_reg_Leu,\n",
    "    [(pod5_dr_bio, bam_fh_bio)],\n",
    "    metric=\"dwell_trimmean_trimsd\",\n",
    "    sig_map_refiner=sig_map_refiner, signal_type = 'norm')\n",
    "print(f\"\\tLeu-CAA-1\\tMetrics computed: {', '.join(samples_metrics_bio_Leu[0].keys())}\")\n",
    "print(f\"\\tLeu-CAA-1\\tShape of metric array: {samples_metrics_bio_Leu[0]['trimmean'].shape}\")\n",
    "\n",
    "ref_reg_Glu = io.RefRegion(ctg=\"Homo_sapiens_tRNA-Glu-CTC-1-1\", strand=\"+\", start=0, end=100)\n",
    "start_time = datetime.now()\n",
    "samples_metrics_bio_Glu, all_bam_reads = io.get_ref_reg_samples_metrics(\n",
    "    ref_reg_Glu,\n",
    "    [(pod5_dr_bio, bam_fh_bio)],\n",
    "    metric=\"dwell_trimmean_trimsd\",\n",
    "    sig_map_refiner=sig_map_refiner, signal_type = 'norm')\n",
    "print(f\"\\tGlu-CTC-1\\tMetrics computed: {', '.join(samples_metrics_bio_Glu[0].keys())}\")\n",
    "print(f\"\\tGlu-CTC-1\\tShape of metric array: {samples_metrics_bio_Glu[0]['trimmean'].shape}\")\n",
    "\n",
    "ref_reg_Gly = io.RefRegion(ctg=\"Homo_sapiens_tRNA-Gly-GCC-2-1\", strand=\"+\", start=0, end=100)\n",
    "start_time = datetime.now()\n",
    "samples_metrics_bio_Gly, all_bam_reads = io.get_ref_reg_samples_metrics(\n",
    "    ref_reg_Gly,\n",
    "    [(pod5_dr_bio, bam_fh_bio)],\n",
    "    metric=\"dwell_trimmean_trimsd\",\n",
    "    sig_map_refiner=sig_map_refiner, signal_type = 'norm')\n",
    "print(f\"\\tGly-GCC-2\\tMetrics computed: {', '.join(samples_metrics_bio_Gly[0].keys())}\")\n",
    "print(f\"\\tGly-GCC-2\\tShape of metric array: {samples_metrics_bio_Gly[0]['trimmean'].shape}\")\n",
    "\n",
    "## For IVT sample, three tRNAs\n",
    "print(f\"Signal alignment for IVT sample:\")\n",
    "samples_metrics_IVT_Leu, all_bam_reads = io.get_ref_reg_samples_metrics(\n",
    "    ref_reg_Leu,\n",
    "    [(pod5_dr_IVT_Leu, bam_fh_IVT_Leu)],\n",
    "    metric=\"dwell_trimmean_trimsd\",\n",
    "    sig_map_refiner=sig_map_refiner, signal_type = 'norm'\n",
    ")\n",
    "print(f\"\\tLeu-CAA-1\\tMetrics computed: {', '.join(samples_metrics_IVT_Leu[0].keys())}\")\n",
    "print(f\"\\tLeu-CAA-1\\tShape of metric array: {samples_metrics_IVT_Leu[0]['trimmean'].shape}\")\n",
    "samples_metrics_IVT_Glu, all_bam_reads = io.get_ref_reg_samples_metrics(\n",
    "    ref_reg_Glu,\n",
    "    [(pod5_dr_IVT_Glu, bam_fh_IVT_Glu)],\n",
    "    metric=\"dwell_trimmean_trimsd\",\n",
    "    sig_map_refiner=sig_map_refiner, signal_type = 'norm'\n",
    ")\n",
    "print(f\"\\tGlu-CTC-1\\tMetrics computed: {', '.join(samples_metrics_IVT_Glu[0].keys())}\")\n",
    "print(f\"\\tGlu-CTC-1\\tShape of metric array: {samples_metrics_IVT_Glu[0]['trimmean'].shape}\")\n",
    "samples_metrics_IVT_Gly, all_bam_reads = io.get_ref_reg_samples_metrics(\n",
    "    ref_reg_Gly,\n",
    "    [(pod5_dr_IVT_Gly, bam_fh_IVT_Gly)],\n",
    "    metric=\"dwell_trimmean_trimsd\",\n",
    "    sig_map_refiner=sig_map_refiner, signal_type = 'norm'\n",
    ")\n",
    "print(f\"\\tGly-GCC-2\\tMetrics computed: {', '.join(samples_metrics_IVT_Gly[0].keys())}\")\n",
    "print(f\"\\tGly-GCC-2\\tShape of metric array: {samples_metrics_IVT_Gly[0]['trimmean'].shape}\")\n",
    "\n",
    "\n",
    "end_time = datetime.now()\n",
    "print(f\"Finished at: {end_time}\")\n",
    "print(f\"Total time taken: {end_time - start_time}\")"
   ]
  },
  {
   "cell_type": "markdown",
   "id": "2d12bed1-8f88-43a0-b62d-43e809392172",
   "metadata": {},
   "source": [
    "### For F5c"
   ]
  },
  {
   "cell_type": "markdown",
   "id": "f07c4a9b-6189-4cbd-990e-998d4eb0314a",
   "metadata": {},
   "source": [
    "See F5c_ionic_current_analysis_tRNAs.ipynb notebook for more details."
   ]
  },
  {
   "cell_type": "code",
   "execution_count": null,
   "id": "6b0ff053-58ec-46f7-969a-22e40259c672",
   "metadata": {},
   "outputs": [],
   "source": [
    "# Load in the .tsv output of f5c eventalign\n",
    "# And convert the mean signal levels per k-mer to mean signal levels per reference position\n",
    "print(f\"Biological sample:\")\n",
    "f5c_output_bio_all = pd.read_csv('path/to/data/bio_f5c_eventalign.tsv', sep='\\t')\n",
    "print(f\"\\tAll\\t\\tNumber of reads: {f5c_output_bio_all['read_name'].nunique()}\")\n",
    "\n",
    "ref_reg_Leu= \"Homo_sapiens_tRNA-Leu-CAA-1-1-WI\"\n",
    "f5c_output_bio_Leu = f5c_output_bio_all[f5c_output_bio_all['contig']==ref_reg_Leu]\n",
    "f5c_output_bio_Leu = convert_kmers_to_base_positions(f5c_output_bio_Leu, center_index =5)\n",
    "print(f\"\\tLeu-CAA-1\\tNumber of reads: {f5c_output_bio_Leu['read_name'].nunique()}\")\n",
    "print(f\"\\tLeu-CAA-1\\tThe dataframe has {f5c_output_bio_Leu.shape[0]} rows and {f5c_output_bio_Leu.shape[1]} columns\")\n",
    "\n",
    "ref_reg_Glu= \"Homo_sapiens_tRNA-Glu-CTC-1-1\"\n",
    "f5c_output_bio_Glu = f5c_output_bio_all[f5c_output_bio_all['contig']==ref_reg_Glu]\n",
    "f5c_output_bio_Glu = convert_kmers_to_base_positions(f5c_output_bio_Glu, center_index =5)\n",
    "print(f\"\\tGlu-CTC-1\\tNumber of reads: {f5c_output_bio_Glu['read_name'].nunique()}\")\n",
    "print(f\"\\tGlu-CTC-1\\tThe dataframe has {f5c_output_bio_Glu.shape[0]} rows and {f5c_output_bio_Glu.shape[1]} columns\")\n",
    "\n",
    "ref_reg_Gly= \"Homo_sapiens_tRNA-Gly-GCC-2-1\"\n",
    "f5c_output_bio_Gly = f5c_output_bio_all[f5c_output_bio_all['contig']==ref_reg_Gly]\n",
    "f5c_output_bio_Gly = convert_kmers_to_base_positions(f5c_output_bio_Gly, center_index =5)\n",
    "print(f\"\\tGly-GCC-2\\tNumber of reads: {f5c_output_bio_Gly['read_name'].nunique()}\")\n",
    "print(f\"\\tGly-GCC-2\\tThe dataframe has {f5c_output_bio_Gly.shape[0]} rows and {f5c_output_bio_Gly.shape[1]} columns\")\n",
    "print('\\n')\n",
    "\n",
    "print(f\"IVT sample:\")\n",
    "f5c_output_IVT_Leu = pd.read_csv('path/to/data/IVT_Leu_CAA_1_f5c_eventalign_.tsv', sep='\\t')\n",
    "print(f\"\\tLeu-CAA-1\\tNumber of reads: {f5c_output_IVT_Leu['read_name'].nunique()}\")\n",
    "f5c_output_IVT_Leu = convert_kmers_to_base_positions(f5c_output_IVT_Leu, center_index =5)\n",
    "print(f\"\\tLeu-CAA-1\\tThe dataframe has {f5c_output_IVT_Leu.shape[0]} rows and {f5c_output_IVT_Leu.shape[1]} columns\")\n",
    "\n",
    "f5c_output_IVT_Glu =  pd.read_csv('path/to/data/IVT_Glu_CTC_1_f5c_eventalign_.tsv', sep='\\t')\n",
    "print(f\"\\tGlu-CTC-1\\tNumber of reads: {f5c_output_IVT_Glu['read_name'].nunique()}\")\n",
    "f5c_output_IVT_Glu = convert_kmers_to_base_positions(f5c_output_IVT_Glu, center_index =5)\n",
    "print(f\"\\tGlu-CTC-1\\tThe dataframe has {f5c_output_IVT_Glu.shape[0]} rows and {f5c_output_IVT_Glu.shape[1]} columns\")\n",
    "\n",
    "f5c_output_IVT_Gly =  pd.read_csv('path/to/data/IVT_Gly_GCC_2_f5c_eventalign_.tsv', sep='\\t')\n",
    "print(f\"\\tGly-GCC-2\\tNumber of reads: {f5c_output_IVT_Gly['read_name'].nunique()}\")\n",
    "f5c_output_IVT_Gly = convert_kmers_to_base_positions(f5c_output_IVT_Gly, center_index =5)\n",
    "print(f\"\\tGly-GCC-2\\tThe dataframe has {f5c_output_IVT_Gly.shape[0]} rows and {f5c_output_IVT_Gly.shape[1]} columns\")\n"
   ]
  },
  {
   "cell_type": "markdown",
   "id": "c4946255-5237-49ad-a955-05342381e027",
   "metadata": {},
   "source": [
    "## 4. Signal coverage\n",
    "The signal coverage is the number of reads that have a mean signal value assigned per base position. The mean signal values are used in the downstream statistical comparison. This depends on the behaviour of the signal alignment method: if the method allows reference base positions to be skipped when no signals match properly to the base position, the signal coverage will fluctuate, but when positions are not allowed to be skipped, each position within a read's signal alignment will have a mean signal level. In the latter case, the signal coverage will match the sequence coverage more closely.\n",
    "Below is shown how the signal coverage resulting from Remora's and f5c's signal alignment can be inferred for both biological and IVT sample for three tRNAs."
   ]
  },
  {
   "cell_type": "markdown",
   "id": "d6d43886-545f-4e46-8765-85b7dbe7bc10",
   "metadata": {},
   "source": [
    "### For Remora"
   ]
  },
  {
   "cell_type": "markdown",
   "id": "a1b595b3-94f3-471a-86f8-0e219b2ea149",
   "metadata": {},
   "source": [
    "#### Biological sample"
   ]
  },
  {
   "cell_type": "code",
   "execution_count": null,
   "id": "557a871c-62cf-46c1-a175-04132519116d",
   "metadata": {},
   "outputs": [],
   "source": [
    "remora_bio_coverage_df = remora_coverage_df(\n",
    "    [samples_metrics_bio_Leu, \n",
    "     samples_metrics_bio_Glu, \n",
    "     samples_metrics_bio_Gly],\n",
    "    positions_range = [0, 100])\n",
    "plot_coverage_lines(remora_bio_coverage_df, \n",
    "                            sample_labels= ['Leu_CAA_1', 'Glu_CTC_1', 'Gly_GCC_2']\n",
    "                            , title=None, yticks=(0, 401, 50))"
   ]
  },
  {
   "cell_type": "markdown",
   "id": "64888255-bb8f-4903-bc47-a943d66b53ef",
   "metadata": {},
   "source": [
    "#### IVT sample"
   ]
  },
  {
   "cell_type": "code",
   "execution_count": null,
   "id": "69f27f2d-7283-4a56-976d-7d589067cfc4",
   "metadata": {},
   "outputs": [],
   "source": [
    "remora_IVT_coverage_df = remora_coverage_df(\n",
    "    [samples_metrics_IVT_Leu, \n",
    "     samples_metrics_IVT_Glu,\n",
    "     samples_metrics_IVT_Gly],\n",
    "    positions_range = [0, 100])\n",
    "plot_coverage_lines(remora_IVT_coverage_df, \n",
    "                            sample_labels= ['Leu_CAA_1', 'Glu_CTC_1', 'Gly_GCC_2']\n",
    "                            , title=None, yticks=(0, 20001, 2500))"
   ]
  },
  {
   "cell_type": "markdown",
   "id": "7441f992-2a62-484c-bcf6-f3c1264ad901",
   "metadata": {},
   "source": [
    "### For F5c"
   ]
  },
  {
   "cell_type": "markdown",
   "id": "fec3deea-c20c-48c3-be25-b0f6c00d35d0",
   "metadata": {},
   "source": [
    "#### Biological sample"
   ]
  },
  {
   "cell_type": "code",
   "execution_count": null,
   "id": "4d296ecc-25ff-47cd-bbd3-b2f41670eefa",
   "metadata": {},
   "outputs": [],
   "source": [
    "f5c_bio_coverage_df = f5c_coverage_df(\n",
    "    f5c_output_bio_Leu, f5c_output_bio_Glu, f5c_output_bio_Gly, \n",
    "    positions_range=[0, 100])\n",
    "plot_coverage_lines(f5c_bio_coverage_df, \n",
    "                            sample_labels= ['Leu_CAA_1', 'Glu_CTC_1', 'Gly_GCC_2']\n",
    "                            , title=None, yticks=(0, 401, 50))"
   ]
  },
  {
   "cell_type": "markdown",
   "id": "3602cab2-802e-40db-96a3-afbdb44623b0",
   "metadata": {},
   "source": [
    "#### IVT sample"
   ]
  },
  {
   "cell_type": "code",
   "execution_count": null,
   "id": "38de9f51-cf36-44e7-a1ae-eb7b1ac4cb65",
   "metadata": {},
   "outputs": [],
   "source": [
    "f5c_IVT_coverage_df = f5c_coverage_df(\n",
    "    f5c_output_IVT_Leu, f5c_output_IVT_Glu, f5c_output_IVT_Gly, \n",
    "    positions_range=[0, 100])\n",
    "plot_coverage_lines(f5c_IVT_coverage_df, \n",
    "                            sample_labels= ['Leu_CAA_1', 'Glu_CTC_1', 'Gly_GCC_2']\n",
    "                            , title=None, yticks=(0, 20001, 2500))"
   ]
  },
  {
   "cell_type": "markdown",
   "id": "695abfb7-94b5-4288-b86f-b897052a15b3",
   "metadata": {},
   "source": [
    "### Comparison between Remora and f5c"
   ]
  },
  {
   "cell_type": "code",
   "execution_count": null,
   "id": "b6a40174-7485-47f4-97b6-cc7b5d5d9621",
   "metadata": {},
   "outputs": [],
   "source": [
    "plot_coverage_lines_Remora_vs_f5c(\n",
    "    coverage_df_Remora = remora_bio_coverage_df, \n",
    "    coverage_df_f5c = f5c_bio_coverage_df, \n",
    "    sample_labels= ['Remora: Leu-CAA-1', 'Remora: Glu-CTC-1', 'Remora: Gly-GCC-2', 'F5c: Leu-CAA-1', 'F5c: Glu-CTC-1', 'F5c: Gly-GCC-2'],\n",
    "    ylim = (0,400),  plot_legend= 'yes') "
   ]
  },
  {
   "cell_type": "code",
   "execution_count": null,
   "id": "6837d374-c3a6-4880-af58-977d087d9b5d",
   "metadata": {},
   "outputs": [],
   "source": [
    "plot_coverage_lines_Remora_vs_f5c(\n",
    "    coverage_df_Remora = remora_IVT_coverage_df, \n",
    "    coverage_df_f5c = f5c_IVT_coverage_df, \n",
    "    sample_labels= ['Remora: Leu-CAA-1', 'Remora: Glu-CTC-1', 'Remora: Gly-GCC-2', 'F5c: Leu-CAA-1', 'F5c: Glu-CTC-1', 'F5c: Gly-GCC-2'],\n",
    "    ylim = (0,20000),  plot_legend= 'yes') "
   ]
  },
  {
   "cell_type": "markdown",
   "id": "d4b515b3-2ee0-4073-9b2e-80691625e84f",
   "metadata": {},
   "source": [
    "## 5. Dwell analysis\n",
    "The dwell is defined as the number of signals assigned to a base position. This is dependent on the translocation speed through the pore and the sampling rate (using RNA004-kit: translocation speed of 130 bp/sec and sampling rate of 4 kHz gives expected dwell of around 30), but is also depending on the signal alignment. The median dwell is the median of dwells among the reads per reference base position.\n",
    "Below is shown how to infer the dwells per position generated by Remora's and f5c's signal alignment for both biological and IVT sample for three tRNAs."
   ]
  },
  {
   "cell_type": "markdown",
   "id": "cca36284-855b-4004-a0c5-23a9a4cb489a",
   "metadata": {},
   "source": [
    "### For Remora\n",
    "Extract the dwells from the samples_metrics dataframes and calculate the median dwell per reference base position."
   ]
  },
  {
   "cell_type": "markdown",
   "id": "0604d2fc-bfcc-4fe0-9e15-6a5d11589d16",
   "metadata": {},
   "source": [
    "#### Biological sample"
   ]
  },
  {
   "cell_type": "code",
   "execution_count": null,
   "id": "239dac97-903c-44fd-8753-3dfe826c8dac",
   "metadata": {},
   "outputs": [],
   "source": [
    "# Leu\n",
    "dwell_bio_Leu = pd.DataFrame(samples_metrics_bio_Leu[0]['dwell'])\n",
    "# Glu\n",
    "dwell_bio_Glu = pd.DataFrame(samples_metrics_bio_Glu[0]['dwell'])\n",
    "# Gly\n",
    "dwell_bio_Gly = pd.DataFrame(samples_metrics_bio_Gly[0]['dwell'])"
   ]
  },
  {
   "cell_type": "code",
   "execution_count": null,
   "id": "95a14136-f1f1-46ea-b264-d8d1544ff42f",
   "metadata": {},
   "outputs": [],
   "source": [
    "plot_median_dwell_and_stats_remora(\n",
    "    {\n",
    "        \"Leu-CAA-1\": dwell_bio_Leu,\n",
    "        \"Glu-CTC-1\": dwell_bio_Glu,\n",
    "        \"Gly-GCC-2\": dwell_bio_Gly\n",
    "    },\n",
    "    title = 'Remora - Biological sample', legend = 'yes'\n",
    ")"
   ]
  },
  {
   "cell_type": "markdown",
   "id": "3a26be82-7cbe-4446-9f17-283f4c48c91c",
   "metadata": {},
   "source": [
    "#### IVT sample"
   ]
  },
  {
   "cell_type": "code",
   "execution_count": null,
   "id": "7f69a337-fc99-4512-be47-56115f04b2b9",
   "metadata": {},
   "outputs": [],
   "source": [
    "# Leu\n",
    "dwell_IVT_Leu = pd.DataFrame(samples_metrics_IVT_Leu[0]['dwell'])\n",
    "# Glu\n",
    "dwell_IVT_Glu = pd.DataFrame(samples_metrics_IVT_Glu[0]['dwell'])\n",
    "# Gly\n",
    "dwell_IVT_Gly = pd.DataFrame(samples_metrics_IVT_Gly[0]['dwell'])"
   ]
  },
  {
   "cell_type": "code",
   "execution_count": null,
   "id": "9082fba6-8102-49ef-bb26-a67edca1c5fe",
   "metadata": {},
   "outputs": [],
   "source": [
    "plot_median_dwell_and_stats_remora(\n",
    "    {\n",
    "        \"Leu-CAA-1\": dwell_IVT_Leu,\n",
    "        \"Glu-CTC-1\": dwell_IVT_Glu,\n",
    "        \"Gly-GCC-2\": dwell_IVT_Gly\n",
    "    },\n",
    "    title = 'Remora - IVT sample', legend = 'yes'\n",
    ")"
   ]
  },
  {
   "cell_type": "markdown",
   "id": "a02a3c6f-a5c6-45ae-8904-758815ad602e",
   "metadata": {},
   "source": [
    "#### Biological vs. IVT sample in violin plots\n",
    "Below all the positions are taking together and the distribution of median dwells is visualised in violin plots:"
   ]
  },
  {
   "cell_type": "code",
   "execution_count": null,
   "id": "3bfca164-5e93-461a-9fd8-a047e32cbcca",
   "metadata": {},
   "outputs": [],
   "source": [
    "median_leu_bio = dwell_bio_Leu.median()\n",
    "median_glu_bio = dwell_bio_Glu.median()\n",
    "median_gly_bio = dwell_bio_Gly.median()\n",
    "\n",
    "# Combine into one DataFrame\n",
    "df_median_bio = pd.DataFrame({\n",
    "    \"position\": median_leu_bio.index,\n",
    "    \"Leu-CAA-1\": median_leu_bio.values,\n",
    "    \"Glu-CTC-1\": median_glu_bio.values,\n",
    "    \"Gly-GCC-2\": median_gly_bio.values\n",
    "})\n",
    "# Melt the wide df_median into long format\n",
    "df_long_bio = pd.melt(df_median_bio, id_vars=[\"position\"], \n",
    "                  var_name=\"tRNA\", value_name=\"dwell\")\n",
    "df_long_bio['sample']= 'Biological'\n",
    "\n",
    "\n",
    "dwell_IVT_Leu = pd.DataFrame(samples_metrics_IVT_Leu[0]['dwell'])\n",
    "dwell_IVT_Glu = pd.DataFrame(samples_metrics_IVT_Glu[0]['dwell'])\n",
    "dwell_IVT_Gly = pd.DataFrame(samples_metrics_IVT_Gly[0]['dwell'])\n",
    "\n",
    "# Compute median per position (i.e., column-wise)\n",
    "median_leu_IVT = dwell_IVT_Leu.median()\n",
    "median_glu_IVT = dwell_IVT_Glu.median()\n",
    "median_gly_IVT = dwell_IVT_Gly.median()\n",
    "\n",
    "\n",
    "# Combine into one DataFrame\n",
    "df_median_IVT = pd.DataFrame({\n",
    "    \"position\": median_leu_IVT.index,\n",
    "    \"Leu-CAA-1\": median_leu_IVT.values,\n",
    "    \"Glu-CTC-1\": median_glu_IVT.values,\n",
    "    \"Gly-GCC-2\": median_gly_IVT.values\n",
    "})\n",
    "# Melt the wide df_median into long format\n",
    "df_long_IVT = pd.melt(df_median_IVT, id_vars=[\"position\"], \n",
    "                  var_name=\"tRNA\", value_name=\"dwell\")\n",
    "df_long_IVT['sample']= 'IVT'\n",
    "\n",
    "\n",
    "\n",
    "median_combined_all = pd.concat([df_long_bio, df_long_IVT\n",
    "], ignore_index=True)\n",
    "\n",
    "plt.figure(figsize=(5, 3))\n",
    "plt.grid(True, axis='y', linestyle='--', alpha=0.6, zorder = 0)\n",
    "sns.violinplot(\n",
    "    data=median_combined_all,\n",
    "    x=\"tRNA\",\n",
    "    y=\"dwell\",\n",
    "    hue=\"sample\",\n",
    "    palette={\"Biological\": \"#009E73\", \"IVT\": \"#7851A9\" },\n",
    "    dodge=True,  # side-by-side in the same violin\n",
    "    inner=\"quartile\", zorder =2\n",
    ")\n",
    "\n",
    "plt.title(\"Remora\")\n",
    "plt.xlabel(\"tRNA\")\n",
    "plt.ylabel(\"Median Dwell\")\n",
    "plt.ylim(0, 260)\n",
    "# Set yticks every 20, but only label every 40\n",
    "ytick_vals = np.arange(0, 260, 20)\n",
    "ytick_labels = [str(val) if val % 40 == 0 else \"\" for val in ytick_vals]\n",
    "plt.yticks(ytick_vals, ytick_labels)\n",
    "\n",
    "plt.legend(\n",
    "    title=\"Sample\",\n",
    "    loc=\"upper left\",\n",
    "    bbox_to_anchor=(1.02, 1),  # x = 1.02 puts it just outside the figure\n",
    "    borderaxespad=0\n",
    ")\n",
    "plt.legend(loc='center left',  bbox_to_anchor=(1.0, 0.5), fontsize=11)\n",
    "plt.tight_layout()\n",
    "plt.show()"
   ]
  },
  {
   "cell_type": "markdown",
   "id": "7f86f12c-0ca5-483b-9f41-ddf8f99259c0",
   "metadata": {},
   "source": [
    "Below the tRNAs are combined:"
   ]
  },
  {
   "cell_type": "code",
   "execution_count": null,
   "id": "4ec8c909-dfd0-406f-bd52-7ccc8a070414",
   "metadata": {},
   "outputs": [],
   "source": [
    "# Combine both Control and IVT into a single DataFrame\n",
    "median_combined_all = pd.concat([df_long_bio, df_long_IVT], ignore_index=True)\n",
    "\n",
    "# Drop the tRNA column, since we now want one distribution per sample group\n",
    "pooled_dwell = median_combined_all[[\"dwell\", \"sample\"]].copy()\n",
    "\n",
    "# Combine Control and IVT into one DataFrame without tRNA distinction\n",
    "pooled_dwell = median_combined_all[[\"dwell\", \"sample\"]].copy()\n",
    "\n",
    "# Print median and standard deviation per sample group\n",
    "summary_stats = pooled_dwell.groupby(\"sample\")[\"dwell\"].agg([\"median\", \"std\"]).reset_index()\n",
    "print(summary_stats)\n",
    "\n",
    "\n",
    "plt.figure(figsize=(3, 3))\n",
    "plt.grid(True, axis='y', linestyle='--', alpha=0.6, zorder=0)\n",
    "\n",
    "# Create violinplot of dwell distributions pooled across all tRNAs\n",
    "sns.violinplot(\n",
    "    data=pooled_dwell,\n",
    "    x=\"sample\",\n",
    "    y=\"dwell\",\n",
    "    palette={\"Biological\": \"#009E73\", \"IVT\": \"#7851A9\"},\n",
    "    inner=\"quartile\",\n",
    "    zorder=2\n",
    ")\n",
    "\n",
    "plt.title(\"Remora\")\n",
    "plt.ylabel(\"Median Dwell\")\n",
    "plt.xlabel(\"\")\n",
    "plt.ylim(0, 260)\n",
    "\n",
    "# Custom yticks: every 20, label every 40\n",
    "ytick_vals = np.arange(0, 260, 20)\n",
    "ytick_labels = [str(val) if val % 40 == 0 else \"\" for val in ytick_vals]\n",
    "plt.yticks(ytick_vals, ytick_labels)\n",
    "\n",
    "plt.tight_layout()\n",
    "plt.show()\n"
   ]
  },
  {
   "cell_type": "markdown",
   "id": "413d4cdd-b980-4587-b993-94eb8b0c4b4d",
   "metadata": {},
   "source": [
    "### For F5c"
   ]
  },
  {
   "cell_type": "markdown",
   "id": "f702c0e2-0b18-4987-8715-2e56ca82cf34",
   "metadata": {},
   "source": [
    "Compute the dwells based on the signal indices"
   ]
  },
  {
   "cell_type": "markdown",
   "id": "4f14afcd-2ccf-4a87-9a01-f0c5e5d90846",
   "metadata": {},
   "source": [
    "#### Biological sample"
   ]
  },
  {
   "cell_type": "code",
   "execution_count": null,
   "id": "e3d80fbc-b2a4-451e-890e-611f62dc96f5",
   "metadata": {},
   "outputs": [],
   "source": [
    "# Leu\n",
    "f5c_output_bio_Leu['dwell'] = f5c_output_bio_Leu['end_idx'] -f5c_output_bio_Leu['start_idx']\n",
    "median_leu_bio = f5c_output_bio_Leu.groupby(\"base_position\")[\"dwell\"].median().reset_index()\n",
    "median_leu_bio[\"tRNA\"] = \"Leu-CAA-1\"\n",
    "\n",
    "# Glu\n",
    "f5c_output_bio_Glu['dwell'] = f5c_output_bio_Glu['end_idx'] -f5c_output_bio_Glu['start_idx']\n",
    "median_glu_bio = f5c_output_bio_Glu.groupby(\"base_position\")[\"dwell\"].median().reset_index()\n",
    "median_glu_bio[\"tRNA\"] = \"Glu-CTC-1\"\n",
    "\n",
    "# Gly\n",
    "f5c_output_bio_Gly['dwell'] = f5c_output_bio_Gly['end_idx'] -f5c_output_bio_Gly['start_idx']\n",
    "median_gly_bio = f5c_output_bio_Gly.groupby(\"base_position\")[\"dwell\"].median().reset_index()\n",
    "median_gly_bio[\"tRNA\"] = \"Gly-GCC-2\""
   ]
  },
  {
   "cell_type": "code",
   "execution_count": null,
   "id": "30772b1f-0ff0-44e4-9835-f8798038a0bb",
   "metadata": {},
   "outputs": [],
   "source": [
    "plot_median_dwell_and_stats_f5c(\n",
    "    {\n",
    "        \"Leu-CAA-1\": median_leu_bio,\n",
    "        \"Glu-CTC-1\": median_glu_bio,\n",
    "        \"Gly-GCC-2\": median_gly_bio\n",
    "    },\n",
    "    title = 'f5c - Biological sample', legend = 'yes'\n",
    ")"
   ]
  },
  {
   "cell_type": "markdown",
   "id": "3488c440-cbc0-41db-861a-15a22866f8da",
   "metadata": {},
   "source": [
    "#### IVT sample"
   ]
  },
  {
   "cell_type": "code",
   "execution_count": null,
   "id": "61939cf4-d3de-4ae6-b715-e180dd5de93f",
   "metadata": {},
   "outputs": [],
   "source": [
    "# Leu\n",
    "f5c_output_IVT_Leu['dwell'] = f5c_output_IVT_Leu['end_idx'] -f5c_output_IVT_Leu['start_idx']\n",
    "median_leu_ivt = f5c_output_IVT_Leu.groupby(\"base_position\")[\"dwell\"].median().reset_index()\n",
    "median_leu_ivt[\"tRNA\"] = \"Leu-CAA-1\"\n",
    "# Glu\n",
    "f5c_output_IVT_Glu['dwell'] = f5c_output_IVT_Glu['end_idx'] -f5c_output_IVT_Glu['start_idx']\n",
    "median_glu_ivt = f5c_output_IVT_Glu.groupby(\"base_position\")[\"dwell\"].median().reset_index()\n",
    "median_glu_ivt[\"tRNA\"] = \"Glu-CTC-1\"\n",
    "# Gly\n",
    "f5c_output_IVT_Gly['dwell'] = f5c_output_IVT_Gly['end_idx'] -f5c_output_IVT_Gly['start_idx']\n",
    "median_gly_ivt = f5c_output_IVT_Gly.groupby(\"base_position\")[\"dwell\"].median().reset_index()\n",
    "median_gly_ivt[\"tRNA\"] = \"Gly-GCC-2\""
   ]
  },
  {
   "cell_type": "code",
   "execution_count": null,
   "id": "7a6c2af9-7340-4032-badb-904b09ff1f0f",
   "metadata": {},
   "outputs": [],
   "source": [
    "plot_median_dwell_and_stats_f5c(\n",
    "    {\n",
    "        \"Leu-CAA-1\": median_leu_ivt,\n",
    "        \"Glu-CTC-1\": median_glu_ivt,\n",
    "        \"Gly-GCC-2\": median_gly_ivt\n",
    "    },\n",
    "    title= \"f5c - IVT sample\", legend = 'yes'\n",
    ")"
   ]
  },
  {
   "cell_type": "markdown",
   "id": "17dd5ba0-55d7-44df-9e4e-4afa81d76d54",
   "metadata": {},
   "source": [
    "#### Biological vs. IVT sample in violin plots\n",
    "Below all the positions are taking together and the distribution of median dwells is visualised in violin plots:"
   ]
  },
  {
   "cell_type": "code",
   "execution_count": null,
   "id": "aa1b9f77-2139-4f5a-8c36-1b5be38ff3ac",
   "metadata": {},
   "outputs": [],
   "source": [
    "# Rename your control versions\n",
    "median_leu_bio[\"sample\"] = \"Biological\"\n",
    "median_glu_bio[\"sample\"] = \"Biological\"\n",
    "median_gly_bio[\"sample\"] = \"Biological\"\n",
    "\n",
    "# Add sample labels to IVT versions\n",
    "median_leu_ivt[\"sample\"] = \"IVT\"\n",
    "median_glu_ivt[\"sample\"] = \"IVT\"\n",
    "median_gly_ivt[\"sample\"] = \"IVT\"\n",
    "\n",
    "median_combined_all = pd.concat([\n",
    "    median_leu_bio, median_leu_ivt,\n",
    "    median_glu_bio, median_glu_ivt,\n",
    "    median_gly_bio, median_gly_ivt\n",
    "], ignore_index=True)\n",
    "\n",
    "plt.figure(figsize=(5, 3))\n",
    "plt.grid(True, axis='y', linestyle='--', alpha=0.6, zorder = 0)\n",
    "sns.violinplot(\n",
    "    data=median_combined_all,\n",
    "    x=\"tRNA\",\n",
    "    y=\"dwell\",\n",
    "    hue=\"sample\",\n",
    "    palette={\"Biological\": \"#009E73\", \"IVT\": \"#7851A9\" },\n",
    "    dodge=True,  # side-by-side in the same violin\n",
    "    inner=\"quartile\", zorder =2\n",
    ")\n",
    "\n",
    "plt.title(\"f5c\")\n",
    "plt.xlabel(\"tRNA\")\n",
    "plt.ylabel(\"Median Dwell\")\n",
    "plt.ylim(0, 260)\n",
    "\n",
    "# Set yticks every 20, but only label every 40\n",
    "ytick_vals = np.arange(0, 260, 20)\n",
    "ytick_labels = [str(val) if val % 40 == 0 else \"\" for val in ytick_vals]\n",
    "plt.yticks(ytick_vals, ytick_labels)\n",
    "\n",
    "plt.legend(loc='center left',  bbox_to_anchor=(1.0, 0.5), fontsize=11)\n",
    "\n",
    "plt.tight_layout()\n",
    "plt.show()"
   ]
  },
  {
   "cell_type": "markdown",
   "id": "c44f78d9-7ff8-4102-b241-13ec30117c1f",
   "metadata": {},
   "source": [
    "Below, the tRNAs are combined:"
   ]
  },
  {
   "cell_type": "code",
   "execution_count": null,
   "id": "17360727-4b21-4f44-91a1-224bb83d8536",
   "metadata": {},
   "outputs": [],
   "source": [
    "# Combine median dwell values across all tRNAs (pooled across base positions)\n",
    "pooled_medians_f5c = median_combined_all.groupby([\"sample\", \"base_position\"])[\"dwell\"].median().reset_index()\n",
    "\n",
    "# Compute median of medians and standard deviation per sample\n",
    "summary_stats_pooled_f5c = pooled_medians_f5c.groupby(\"sample\")[\"dwell\"].agg([\"median\", \"std\"]).reset_index()\n",
    "\n",
    "print(\"Pooled median dwell stats across all tRNAs (f5c):\")\n",
    "print(summary_stats_pooled_f5c)\n",
    "# Combine all tRNAs into a single distribution per sample (pooled median dwells)\n",
    "pooled_violin_f5c = median_combined_all[[\"base_position\", \"dwell\", \"sample\"]]\n",
    "\n",
    "plt.figure(figsize=(3, 3))\n",
    "plt.grid(True, axis='y', linestyle='--', alpha=0.6, zorder=0)\n",
    "\n",
    "sns.violinplot(\n",
    "    data=pooled_violin_f5c,\n",
    "    x=\"sample\",\n",
    "    y=\"dwell\",\n",
    "    hue=\"sample\",\n",
    "    palette={\"Biological\": \"#009E73\", \"IVT\": \"#7851A9\"},\n",
    "    inner=\"quartile\",\n",
    "    zorder=2\n",
    ")\n",
    "\n",
    "# Set plot labels and appearance\n",
    "plt.title(\"f5c\")\n",
    "plt.xlabel(\"\")\n",
    "plt.ylabel(\"Median Dwell\")\n",
    "plt.ylim(0, 260)\n",
    "\n",
    "# Set yticks every 20 but label every 40\n",
    "ytick_vals = np.arange(0, 260, 20)\n",
    "ytick_labels = [str(val) if val % 40 == 0 else \"\" for val in ytick_vals]\n",
    "plt.yticks(ytick_vals, ytick_labels)\n",
    "\n",
    "plt.tight_layout()\n",
    "plt.show()"
   ]
  }
 ],
 "metadata": {
  "kernelspec": {
   "display_name": "Python (polars_env)",
   "language": "python",
   "name": "polars_env"
  },
  "language_info": {
   "codemirror_mode": {
    "name": "ipython",
    "version": 3
   },
   "file_extension": ".py",
   "mimetype": "text/x-python",
   "name": "python",
   "nbconvert_exporter": "python",
   "pygments_lexer": "ipython3",
   "version": "3.11.13"
  }
 },
 "nbformat": 4,
 "nbformat_minor": 5
}
