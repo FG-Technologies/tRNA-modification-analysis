{
 "cells": [
  {
   "cell_type": "markdown",
   "id": "50c98186-0130-4c32-be3e-3080b07c4463",
   "metadata": {},
   "source": [
    "# Basecalled modifications analysis using modkit for tRNAs"
   ]
  },
  {
   "cell_type": "markdown",
   "id": "91635ee0-8d1a-4a86-bb6d-0ab4dddb6d73",
   "metadata": {},
   "source": [
    "This notebooks aims to analyse the modification prediction made by Dorado basecalling. This is done by using the output pileup.bed table from modkit pileup.\n",
    "Content of this notebook:\n",
    "1. Import of required python packages\n",
    "2. Data loading\n",
    "3. Filtering of modifications\n",
    "4. Visualisation"
   ]
  },
  {
   "cell_type": "markdown",
   "id": "27525d32-abb5-4942-8e9c-d39c67e45b37",
   "metadata": {},
   "source": [
    "## 1. Import of required python packages"
   ]
  },
  {
   "cell_type": "code",
   "execution_count": null,
   "id": "ce9d0efb-11a1-4d30-b2b6-24b0adaf4544",
   "metadata": {},
   "outputs": [],
   "source": [
    "import pandas as pd\n",
    "from matplotlib import pyplot as plt\n",
    "from matplotlib_venn import venn3\n",
    "from matplotlib import ticker\n",
    "import seaborn as sns\n",
    "import numpy as np"
   ]
  },
  {
   "cell_type": "markdown",
   "id": "34b9269e-eeef-4cb9-acf6-89350a0750c3",
   "metadata": {},
   "source": [
    "## 2. Data loading"
   ]
  },
  {
   "cell_type": "markdown",
   "id": "5042f073-bf93-4248-8025-915cc45f7a49",
   "metadata": {},
   "source": [
    "### Constants"
   ]
  },
  {
   "cell_type": "markdown",
   "id": "31be96b8-0294-44da-92e1-38bf50d66a67",
   "metadata": {},
   "source": [
    "Define the reference sequences"
   ]
  },
  {
   "cell_type": "code",
   "execution_count": null,
   "id": "9eb31213-be92-4eca-b7a9-4131516e8c8b",
   "metadata": {},
   "outputs": [],
   "source": [
    "seq_Glu_CTC_1_1 = \"TCCCTGGTGGTCTAGTGGTTAGGATTCGGCGCTCTCACCGCCGCGGCCCGGGTTCGATTCCCGGTCAGGGAA\"\n",
    "seq_Gly_GCC_2_1 = \"GCATTGGTGGTTCAGTGGTAGAATTCTCGCCTGCCACGCGGGAGGCCCGGGTTCGATTCCCGGCCAATGCA\"\n",
    "seq_Leu_CAA_1_1_WI = \"GTCAGGATGGCCGAGTGGTCTAAGGCGCCAGACTCAAGTTCTGGTCTCCAATGGAGGCGTGGGTTCGAATCCCACTTCTGACA\"\n",
    "seq_Leu_CAA_1_1 = \"GTCAGGATGGCCGAGTGGTCTAAGGCGCCAGACTCAAGCTAAGCTTCCTCCGCGGTGGGGATTCTGGTCTCCAATGGAGGCGTGGGTTCGAATCCCACTTCTGACA\"\n",
    "seq_Leu_CAA_1_2 = \"GTCAGGATGGCCGAGTGGTCTAAGGCGCCAGACTCAAGCTTGGCTTCCTCGTGTTGAGGATTCTGGTCTCCAATGGAGGCGTGGGTTCGAATCCCACTTCTGACA\""
   ]
  },
  {
   "cell_type": "markdown",
   "id": "57d41ce2-6052-4251-bef0-57ec8506cae3",
   "metadata": {},
   "source": [
    "Define the reference contigs of itnerest"
   ]
  },
  {
   "cell_type": "code",
   "execution_count": null,
   "id": "f709aa1e-2dc5-44d3-8aae-a2c31794bb9f",
   "metadata": {},
   "outputs": [],
   "source": [
    "ref_reg_Leu = 'Homo_sapiens_tRNA-Leu-CAA-1-1-WI'\n",
    "ref_reg_Glu = 'Homo_sapiens_tRNA-Glu-CTC-1-1'\n",
    "ref_reg_Gly = 'Homo_sapiens_tRNA-Gly-GCC-2-1'"
   ]
  },
  {
   "cell_type": "markdown",
   "id": "ad12a1a4-ba00-49e5-b5af-92adb64177e5",
   "metadata": {},
   "source": [
    "Make a dictionary with the modification code as key and the target base and modification name as value"
   ]
  },
  {
   "cell_type": "code",
   "execution_count": null,
   "id": "7eddafb6-eee4-4237-a7c4-46b3772ba861",
   "metadata": {},
   "outputs": [],
   "source": [
    "modification_code = {'17802': ['T', 'pseU'],\n",
    "                    '19227': ['T', '2OmeU'],\n",
    "                     '19229': ['G', '2OmeG'],\n",
    "                     'm': ['C', 'm5C'],\n",
    "                     '19228': ['C', '2OmeC'],\n",
    "                     'a': ['A', 'm6A'],\n",
    "                     '17596': ['A', 'inosine'],\n",
    "                     '69426': ['A', '2OmeA']\n",
    "                    }\n",
    "for code in modification_code:\n",
    "    print(f\"The modification code {code} modifies base {modification_code[code][0]}: {modification_code[code][1]}\")"
   ]
  },
  {
   "cell_type": "markdown",
   "id": "035574e0-23d6-428d-a63f-2eaf458fd0db",
   "metadata": {},
   "source": [
    "### Load the pileup file created by modkit"
   ]
  },
  {
   "cell_type": "code",
   "execution_count": null,
   "id": "9a3382b9-b95f-44a4-87bd-5844e7b5d47a",
   "metadata": {},
   "outputs": [],
   "source": [
    "bed_df = pd.read_csv(\"path/to/data/modkit_pileup.bed\", sep=\"\\t\", header=None)\n",
    "bed_df.columns = ['chrom', 'start_position', 'end_position',\n",
    "                 'modified_base_code', 'score', 'strand', \n",
    "                 'start_position_2', 'end_position_2', 'color',\n",
    "                 'Nvalid_cov', 'percent_modified', 'Nmod',\n",
    "                 'Ncanonical', 'Nother_mod', 'Ndelete', 'Nfail',\n",
    "                 'Ndiff', 'Nnocal']\n",
    "\n",
    "# Drop the following column, because irrelevant for downstream analysis\n",
    "bed_df = bed_df.drop(columns = ['strand', 'end_position','color', 'start_position_2', 'end_position_2', 'score'])\n",
    "\n",
    "bed_df"
   ]
  },
  {
   "cell_type": "markdown",
   "id": "68766946-89b7-4c92-8247-d0606b0204c8",
   "metadata": {},
   "source": [
    "## 3. Filtering of modifications"
   ]
  },
  {
   "cell_type": "markdown",
   "id": "2d77d2e4-4368-417d-92d8-99c01352df73",
   "metadata": {},
   "source": [
    "### Percentage of canonical reads\n",
    "Add a column which indicates the percentage of reads unmodified (canonical) over all the reads"
   ]
  },
  {
   "cell_type": "code",
   "execution_count": null,
   "id": "4356b826-ba2c-49c7-ac3e-48cdd14f717b",
   "metadata": {},
   "outputs": [],
   "source": [
    "bed_df = bed_df.copy()\n",
    "bed_df['percent_canonical'] = (bed_df['Ncanonical'] / bed_df['Nvalid_cov']) * 100\n",
    "print(f\"The dataframe has {bed_df.shape[0]} rows and {bed_df.shape[1]} columns\")"
   ]
  },
  {
   "cell_type": "markdown",
   "id": "554568ad-f311-4472-b4fd-e09d43ccdf7b",
   "metadata": {},
   "source": [
    "### Make a subset for the reference of interest\n",
    "Select only the modification prediction within the reference of interest"
   ]
  },
  {
   "cell_type": "code",
   "execution_count": null,
   "id": "446b9257-05a8-4f8a-90d5-dad23970cabc",
   "metadata": {},
   "outputs": [],
   "source": [
    "sequence = \n",
    "print(len(sequence))\n",
    "ref = \n",
    "print(ref)"
   ]
  },
  {
   "cell_type": "code",
   "execution_count": null,
   "id": "d8b7e45d-7eb6-4e07-a5dc-09276464c1d6",
   "metadata": {},
   "outputs": [],
   "source": [
    "bed_df_subset = bed_df[bed_df['chrom']== ref]\n",
    "print(f\"The subset dataframe has {bed_df_subset.shape[0]} rows and {bed_df_subset.shape[1]} columns\")"
   ]
  },
  {
   "cell_type": "markdown",
   "id": "a1d75a94-9c84-42bc-9081-6865c395703d",
   "metadata": {},
   "source": [
    "### Filter the positions\n",
    "Consider only the prediction when less than 90% of the reads are canonical (i.e. unmodified), and for which the total coverage is more than 35, and the number of modified reads is more than 5."
   ]
  },
  {
   "cell_type": "code",
   "execution_count": null,
   "id": "4e49cd18-b7e4-451d-8f41-bfd3bf0ac0a7",
   "metadata": {},
   "outputs": [],
   "source": [
    "filtered_bed_df = bed_df_subset[(bed_df_subset['percent_canonical'] < 90) \n",
    "                        & (bed_df_subset['Nvalid_cov'] > 35)\n",
    "                        & (bed_df_subset['Nmod'] > 5)]\n",
    "print(f\"The filtered subset dataframe has {filtered_bed_df.shape[0]} rows and {filtered_bed_df.shape[1]} columns\")\n",
    "print(f\"The number of unique positions is {filtered_bed_df['start_position'].nunique()}\")"
   ]
  },
  {
   "cell_type": "markdown",
   "id": "6c603688-b9aa-4165-aa0c-0ab911113930",
   "metadata": {},
   "source": [
    "For the IVT sample predictions are only considered when less than 90% of the reads are canonical and for which the total coverage is more than 200 reads:"
   ]
  },
  {
   "cell_type": "code",
   "execution_count": null,
   "id": "830293ea-8ea3-4b02-bd4d-7d525b8713c1",
   "metadata": {},
   "outputs": [],
   "source": [
    "# For IVT sample\n",
    "filtered_bed_df = bed_df[(bed_df['percent_canonical'] < 90) & (bed_df['Nvalid_cov'] > 200)]"
   ]
  },
  {
   "cell_type": "markdown",
   "id": "94f80212-8e03-4f7b-ae54-9d783c526dbf",
   "metadata": {},
   "source": [
    "### Making new dataframe summarizing the results"
   ]
  },
  {
   "cell_type": "code",
   "execution_count": null,
   "id": "d703f5a0-bdb5-4f2d-87a3-045daaaece34",
   "metadata": {
    "scrolled": true
   },
   "outputs": [],
   "source": [
    "reference_base_list = []\n",
    "modified_base_list = []\n",
    "modification_list = []\n",
    "for idx, row in filtered_bed_df.iterrows():\n",
    "    print(f\"Modification {row['modified_base_code']}, which correspond to {modification_code[row['modified_base_code']]}\")\n",
    "    print(f\"with start position {row['start_position']}\")\n",
    "    print(f\"Within the reference sequence {sequence[row['start_position']]}\\n\")\n",
    "    reference_base_list.append(sequence[row['start_position']])\n",
    "    modified_base_list.append(modification_code[row['modified_base_code']][0])\n",
    "    modification_list.append(modification_code[row['modified_base_code']][1])"
   ]
  },
  {
   "cell_type": "code",
   "execution_count": null,
   "id": "a99bb04e-734b-4747-9739-67d10e6d740d",
   "metadata": {
    "scrolled": true
   },
   "outputs": [],
   "source": [
    "result_df = pd.DataFrame({'chrom': filtered_bed_df['chrom'],\n",
    "              'start_position': filtered_bed_df['start_position'],\n",
    "              'modified_base_code':  filtered_bed_df['modified_base_code'],\n",
    "              'modification': modification_list,\n",
    "              'percent_modified': filtered_bed_df['percent_modified'],\n",
    "                'percent_canonical': filtered_bed_df['percent_canonical'],\n",
    "              'Nmod': filtered_bed_df['Nmod'],\n",
    "            'Nvalid_cov': filtered_bed_df['Nvalid_cov'],\n",
    "                'reference_base': reference_base_list,\n",
    "                'modified_base': modified_base_list\n",
    "             })\n",
    "result_df"
   ]
  },
  {
   "cell_type": "markdown",
   "id": "fc61b433-9ba2-4f89-be0a-dc0ed05f4765",
   "metadata": {},
   "source": [
    "### The resulting list of predicted modified positions"
   ]
  },
  {
   "cell_type": "code",
   "execution_count": null,
   "id": "c93bdfa8-6dfc-4f69-a981-069b7f4e6210",
   "metadata": {},
   "outputs": [],
   "source": [
    "list_positions = list(result_df['start_position'])\n",
    "print(f\"The number of positions basecalled to be modified: {len(sorted(set(list_positions)))}\")\n",
    "print(f\"The positions basecalled to be modified:{sorted(set(list_positions))}\")"
   ]
  },
  {
   "cell_type": "markdown",
   "id": "1745770b-0160-4a2d-9b71-783145f95598",
   "metadata": {},
   "source": [
    "### Export these results"
   ]
  },
  {
   "cell_type": "code",
   "execution_count": null,
   "id": "8963a53b-6e80-4e9c-8f0f-a775327ac8fa",
   "metadata": {},
   "outputs": [],
   "source": [
    "result_df.to_csv(\"path/to/data/modkit_results.csv\", index=False)"
   ]
  },
  {
   "cell_type": "markdown",
   "id": "ea03ac2a-1847-4c99-9a47-49ddbfcd494d",
   "metadata": {},
   "source": [
    "## 4. Visualisation"
   ]
  },
  {
   "cell_type": "code",
   "execution_count": null,
   "id": "43629fdb-8ed0-495e-9037-6fd92846ff31",
   "metadata": {},
   "outputs": [],
   "source": [
    "# Prepare Data\n",
    "## Convert result_df into a DataFrame with percentage strings\n",
    "data = [\n",
    "    [\n",
    "        row.start_position,\n",
    "        row.modification,\n",
    "        f\"{row.percent_modified:.1f}%\",  # Format float as percentage string\n",
    "        row.Nmod\n",
    "    ]\n",
    "    for row in result_df.itertuples(index=False)\n",
    "]\n",
    "\n",
    "df = pd.DataFrame(data, columns=['Position', 'Modification', 'Percentage', 'Absolute'])\n",
    "\n",
    "## Convert 'Percentage' column to float values (strip the % symbol)\n",
    "df['Percentage'] = df['Percentage'].str.rstrip('%').astype(float)\n",
    "\n",
    "## Make Position categorical (string) for ordered plotting\n",
    "df['Position_str'] = df['Position'].astype(str)\n",
    "\n",
    "\n",
    "# Define plotting parameters\n",
    "## Position list for X-axis\n",
    "positions = sorted(df['Position'].unique())\n",
    "\n",
    "## Modification order and color mapping\n",
    "mod_order = ['m6A', '2OmeC', '2OmeU', 'Inosine', 'm5C', 'pseU', '2OmeG', '2OmeA']\n",
    "mod_colors = {\n",
    "    'm6A':    '#1f77b4',  # Blue\n",
    "    'pseU':   '#ff7f0e',  # Orange\n",
    "    '2OmeU':  '#2ca02c',  # Green\n",
    "    'm5C':    '#d62728',  # Red\n",
    "    '2OmeC':  '#9467bd',  # Purple\n",
    "    '2OmeG':  '#8c564b',  # Brown\n",
    "    '2OmeA':  '#e377c2',  # Pink\n",
    "}\n",
    "\n",
    "num_mods = len(mod_order)\n",
    "\n",
    "# Bar group width and spacing\n",
    "bar_width = 2.0 / num_mods  # Width allocated to each modification\n",
    "spacing = 2.5               # Space between position groups\n",
    "x_pos = np.arange(len(positions)) * spacing\n",
    "\n",
    "\n",
    "# Plot barplot\n",
    "plt.figure(figsize=(13, 3))\n",
    "\n",
    "for i, mod in enumerate(mod_order):\n",
    "    mod_vals = []\n",
    "    abs_vals = []\n",
    "\n",
    "    # Collect percentage & absolute values for each position\n",
    "    for pos in positions:\n",
    "        # Get percentage for position/modification, or 0 if missing\n",
    "        val = df.loc[(df['Position'] == pos) & (df['Modification'] == mod), 'Percentage']\n",
    "        mod_vals.append(val.values[0] if not val.empty else 0)\n",
    "\n",
    "        # Get absolute counts similarly\n",
    "        abs_val = df.loc[(df['Position'] == pos) & (df['Modification'] == mod), 'Absolute']\n",
    "        abs_vals.append(abs_val.values[0] if not abs_val.empty else 0)\n",
    "\n",
    "    # Draw bars for this modification\n",
    "    bars = plt.bar(\n",
    "        x_pos + i * bar_width,\n",
    "        mod_vals,\n",
    "        color=mod_colors.get(mod, 'gray'),\n",
    "        width=bar_width,\n",
    "        label=mod,\n",
    "        zorder=3\n",
    "    )\n",
    "\n",
    "    # Add absolute value labels above bars\n",
    "    for bar, abs_val in zip(bars, abs_vals):\n",
    "        height = bar.get_height()\n",
    "        if height > 0:  # Only label non-zero bars\n",
    "            plt.text(\n",
    "                bar.get_x() + bar.get_width() / 2,\n",
    "                height + 1,\n",
    "                f\"({abs_val})\",\n",
    "                ha='center',\n",
    "                va='bottom',\n",
    "                fontsize=9\n",
    "            )\n",
    "\n",
    "plt.ylabel('Modified reads (%)', fontsize=12)\n",
    "plt.yticks(fontsize=12)\n",
    "plt.xlabel('Base position', fontsize=12)\n",
    "plt.ylim(0, 100)\n",
    "plt.xlim(x_pos[0] - bar_width, x_pos[-1] + bar_width * (num_mods + 0.5))\n",
    "\n",
    "ax.grid(True, linestyle='--', alpha=0.4, axis='y', zorder=0)\n",
    "\n",
    "# Emphasize specific positions\n",
    "highlight_positions = []  # Positions to bold in X-axis labels\n",
    "\n",
    "def custom_tick_label(pos):\n",
    "    \"\"\"Return custom X-axis label, bold if highlighted.\"\"\"\n",
    "    label = str(positions[int(round((pos / spacing)))]) if (pos / spacing).is_integer() else \"\"\n",
    "    if label:\n",
    "        label_int = int(label)\n",
    "        if label_int in highlight_positions:\n",
    "            return rf\"$\\bf{{{label}}}$\"\n",
    "        else:\n",
    "            return label\n",
    "    return \"\"\n",
    "\n",
    "ax = plt.gca()\n",
    "ax.set_xticks(x_pos + bar_width * (num_mods - 1) / 2)\n",
    "ax.set_xticklabels([custom_tick_label(pos) for pos in x_pos])\n",
    "for label in ax.get_xticklabels():\n",
    "    label.set_fontsize(12)\n",
    "\n",
    "\n",
    "\n",
    "# Make excluded positions shaded\n",
    "highlight_excluded_positions = []  # Background highlights\n",
    "highlight_color = 'lightgray'\n",
    "\n",
    "for pos in highlight_excluded_positions:\n",
    "    if pos in positions:\n",
    "        index = positions.index(pos)\n",
    "        x = x_pos[index]\n",
    "        total_width = bar_width * num_mods\n",
    "        plt.axvspan(x, x + total_width, color=highlight_color, alpha=0.6)\n",
    "\n",
    "\n",
    "\n",
    "# Legend\n",
    "handles, labels = plt.gca().get_legend_handles_labels()\n",
    "ordered = [(h, l) for l in mod_order for h, lbl in zip(handles, labels) if lbl == l]\n",
    "handles, labels = zip(*ordered)\n",
    "# Uncomment to show legend\n",
    "# plt.legend(handles, labels, fontsize=12, loc='upper left',\n",
    "#            bbox_to_anchor=(0.5, -0.1),\n",
    "#            ncol=1, framealpha=1.0, title='Base modification', title_fontsize=12)\n",
    "\n",
    "\n",
    "plt.show()\n"
   ]
  }
 ],
 "metadata": {
  "kernelspec": {
   "display_name": "Python (polars_env)",
   "language": "python",
   "name": "polars_env"
  },
  "language_info": {
   "codemirror_mode": {
    "name": "ipython",
    "version": 3
   },
   "file_extension": ".py",
   "mimetype": "text/x-python",
   "name": "python",
   "nbconvert_exporter": "python",
   "pygments_lexer": "ipython3",
   "version": "3.11.13"
  }
 },
 "nbformat": 4,
 "nbformat_minor": 5
}
