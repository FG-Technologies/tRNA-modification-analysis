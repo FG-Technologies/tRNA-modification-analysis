{
 "cells": [
  {
   "cell_type": "markdown",
   "id": "0393324d-7436-4ba9-9113-7309894b61c7",
   "metadata": {},
   "source": [
    "# F5c ionic current analysis for tRNAs"
   ]
  },
  {
   "cell_type": "markdown",
   "id": "ac1c80cd-b908-48f5-830d-40aacce74133",
   "metadata": {},
   "source": [
    "This notebooks aims to use the f5c eventalign tsv output (see: https://github.com/hasindu2008/f5c) to subsequently apply statistical comparison of signal levels per reference base position.\n",
    "Content of this notebook:\n",
    "1. Import of required python packages\n",
    "2. Functions\n",
    "3. Data loading\n",
    "4. Data preparation\n",
    "5. Statistical comparison\n",
    "6. Visualisation"
   ]
  },
  {
   "cell_type": "markdown",
   "id": "6a3664ab-6570-40bd-9c69-da99995ccc6b",
   "metadata": {},
   "source": [
    "## 1. Import of required python packages"
   ]
  },
  {
   "cell_type": "code",
   "execution_count": null,
   "id": "cd2abf22-de4f-4e7f-abce-5fa6e8788e89",
   "metadata": {},
   "outputs": [],
   "source": [
    "# ---- General packages ----\n",
    "import logging\n",
    "import pickle\n",
    "import numpy as np\n",
    "import pandas as pd\n",
    "import pingouin as pg\n",
    "from datetime import datetime\n",
    "import polars as pl\n",
    "import patchworklib as pw\n",
    "\n",
    "# ---- For plotting ----\n",
    "import matplotlib.pyplot as plt\n",
    "import matplotlib.patches as mpatches\n",
    "\n",
    "import seaborn as sns\n",
    "\n",
    "\n",
    "# ---- Statistical testing ----\n",
    "from scipy.stats import mannwhitneyu\n",
    "from statsmodels.stats.multitest import multipletests\n"
   ]
  },
  {
   "cell_type": "markdown",
   "id": "ee19638d-1875-4d3c-9b42-3f375ee43bff",
   "metadata": {},
   "source": [
    "## 2. Functions"
   ]
  },
  {
   "cell_type": "markdown",
   "id": "89ccc100-f53b-46f9-bdb2-e5152547280f",
   "metadata": {},
   "source": [
    "### Analysis functions"
   ]
  },
  {
   "cell_type": "code",
   "execution_count": null,
   "id": "87cfa028-99e5-4d89-97ee-05cd0b056410",
   "metadata": {
    "jupyter": {
     "source_hidden": true
    }
   },
   "outputs": [],
   "source": [
    "def convert_kmers_to_base_positions(\n",
    "    df, \n",
    "    center_index =5):\n",
    "\n",
    "    \"\"\"\n",
    "    Goal: this function assigns the mean signal level per k-mer to the center position within k-mer.\n",
    "    Parameters:\n",
    "        df: pd.DataFrame, made from .tsv output of f5c\n",
    "        center_index: int, the index of the center base position within k-mer\n",
    "    \"\"\"\n",
    "    # Add column with the center base position\n",
    "    df = df.rename(columns={'position': 'kmer_position'})\n",
    "    kmer_positions = df['kmer_position']\n",
    "    kmer_positions_list = list(kmer_positions)\n",
    "    base_positions_list = [kmer_position + center_index for kmer_position in kmer_positions]\n",
    "    df.insert(2, \"base_position\", base_positions_list)\n",
    "\n",
    "    # Add column with the center base\n",
    "    reference_kmers = df['reference_kmer']\n",
    "    reference_kmers_list = list(reference_kmers)\n",
    "    reference_base_list = [reference_kmer[center_index] for reference_kmer in reference_kmers_list]\n",
    "    df.insert(4, \"reference_base\", reference_base_list)\n",
    "\n",
    "    return df"
   ]
  },
  {
   "cell_type": "code",
   "execution_count": null,
   "id": "5ad74b2f-3759-4b2a-b311-da8056037c6d",
   "metadata": {
    "jupyter": {
     "source_hidden": true
    }
   },
   "outputs": [],
   "source": [
    "def compute_MWU_results(\n",
    "    f5c_output_1,\n",
    "    f5c_output_2,\n",
    "    common_positions_list,\n",
    "    samples_labels,\n",
    "    ):\n",
    "    \"\"\"\n",
    "    Goal: apply Mann-Whitney-U testing for the two samples with subsequent FDR-correction\n",
    "    Parameters:\n",
    "        f5c_output_1/2: pd.DataFrame, made of .tsv output of f5c eventalign, which include signal levels per base position\n",
    "        common_positions_list: list[int], list of position indices which are included in both f5c .tsv outputs\n",
    "        samples_labels: list[str], list of names of samples\n",
    "    \"\"\"\n",
    "\n",
    "    Mann_Whitney_U_results = []\n",
    "    for position in common_positions_list:\n",
    "        # Make subset of the signals for specific base_position\n",
    "        subset_1 = f5c_output_1[f5c_output_1['base_position']==position]\n",
    "        subset_2 = f5c_output_2[f5c_output_2['base_position']==position]\n",
    "        # Get all the signal levels at this specific base position\n",
    "        signal_levels_1 = subset_1['event_level_mean']\n",
    "        signal_levels_2 = subset_2['event_level_mean']\n",
    "   \n",
    "        # With these do Mann-Whitney-U test\n",
    "        ## Drop the reads NA entries\n",
    "        data_1 =  signal_levels_1.dropna()\n",
    "        data_2 =  signal_levels_2.dropna()\n",
    "        ## Only when the threshold of minimum amount of reads is reached\n",
    "        if (len(data_1) >= min_reads) and (len(data_2) >= min_reads):\n",
    "            result_mwu = pg.mwu(data_1, data_2, alternative='two-sided')\n",
    "            stat = result_mwu['U-val'].values[0]\n",
    "            pval = result_mwu['p-val'].values[0]\n",
    "            RBC = result_mwu['RBC'].values[0]\n",
    "            Mann_Whitney_U_results.append({'base_position': position,\n",
    "                                   'p_value': pval,\n",
    "                                    'RBC': RBC,\n",
    "                                  'num_'+ samples_labels[0]: len(signal_levels_1),\n",
    "                                  'num_' + samples_labels[1]: len(signal_levels_2),\n",
    "                                  'median_' + samples_labels[0]: np.median(signal_levels_1),\n",
    "                                  'median_' + samples_labels[1]: np.median(signal_levels_2),\n",
    "                                   'std_'+ samples_labels[0]: np.std(signal_levels_1),\n",
    "                                   'std_'+ samples_labels[1]: np.std(signal_levels_2),\n",
    "                                  })\n",
    "\n",
    "    results_df = pd.DataFrame(Mann_Whitney_U_results)\n",
    "    pvals = results_df['p_value']\n",
    "    # Apply FDR-correction\n",
    "    _, pvals_corrected, _, _ = multipletests(pvals, method='fdr_bh', alpha = 0.01)\n",
    "    results_df['adjusted_p_value'] = pvals_corrected\n",
    "    filtered_df = results_df[(results_df['adjusted_p_value'] < threshold)]\n",
    "\n",
    "    # Get the significant positions\n",
    "    significant_positions = list(filtered_df['base_position'])\n",
    "    print(f\"Number of significantly different positions for this entry: {len(significant_positions)}\")\n",
    "    \n",
    "    if len(significant_positions) > 0:\n",
    "        return filtered_df, significant_positions\n",
    "    else:\n",
    "        return None, None"
   ]
  },
  {
   "cell_type": "markdown",
   "id": "687b25ae-d499-4ee2-9b96-52f3666faba6",
   "metadata": {},
   "source": [
    "### Plotting functions"
   ]
  },
  {
   "cell_type": "markdown",
   "id": "93a6f94c-0476-469b-bc83-52d9593a869f",
   "metadata": {},
   "source": [
    "#### Line plot"
   ]
  },
  {
   "cell_type": "code",
   "execution_count": null,
   "id": "981214c9-2c0e-4ea9-b12d-7999e01bfd18",
   "metadata": {
    "jupyter": {
     "source_hidden": true
    }
   },
   "outputs": [],
   "source": [
    "def plot_event_level_means_one_sample_with_seq(\n",
    "    event_level_df,\n",
    "    xlim_start=0,\n",
    "    xlim_end=20,\n",
    "    max_reads=None,\n",
    "    alpha_lines=1/200,\n",
    "    highlight_positions=None,\n",
    "    color = \"#009E73\",\n",
    "    sequence=None \n",
    "):\n",
    "    \"\"\"\n",
    "    Plot trimmean signals for 1 sample.\n",
    "    \n",
    "    Parameters:\n",
    "        event_level_df_1: pd.DataFrame with event levels means per read (row) per positoin (column)\n",
    "        xlim_start/xlim_end: int, x-axis boundaries\n",
    "        max_reads: int, maximum numbers of reads to plot\n",
    "        alpha_lines: float, transparency\n",
    "        sample_labels: list[str], list of 3 labels\n",
    "        highlight_positions: list[int] list of positions (indices) of interest\n",
    "        sequence: [str], sequence of region of interest as a list of characters\n",
    "    \"\"\"\n",
    "\n",
    "    print(f\"Shape of metric array: {event_level_df.shape}\")\n",
    "\n",
    "    # Limit x-axis range\n",
    "    plot_positions = [pos for pos in event_level_df.columns]\n",
    "\n",
    "    plt.figure(figsize=(10, 6))\n",
    "\n",
    "    # When too many reads, draw random subsample\n",
    "    if max_reads is not None and len(event_level_df) > max_reads:\n",
    "        data_to_plot = event_level_df.sample(n=max_reads, random_state=42)\n",
    "    else:\n",
    "        data_to_plot = event_level_df\n",
    "\n",
    "    # Plot each read as single line\n",
    "    for i in range(len(data_to_plot)):\n",
    "        plt.plot(plot_positions, data_to_plot[plot_positions].iloc[i], color=color, alpha=alpha_lines)\n",
    "\n",
    "    print(f\"Plotting {len(data_to_plot)} reads\")\n",
    "\n",
    "    # Show both sequence and position if sequence is provided\n",
    "    if sequence is not None:\n",
    "        print(f\"The sequence being plotted is {len(sequence[xlim_start:xlim_end])} nt\")\n",
    "        \n",
    "        ax = plt.gca()  # Get current axis\n",
    "\n",
    "        # x-axis tick positions\n",
    "        x_positions = list(range(xlim_start, xlim_end))\n",
    "\n",
    "        if sequence is not None:\n",
    "            sequence_slice = sequence[xlim_start:xlim_end]\n",
    "            if len(sequence_slice) != (xlim_end - xlim_start):\n",
    "                raise ValueError(\"Length of sequence slice does not match expected range.\")\n",
    "\n",
    "            # Combine sequence and index labels with newline\n",
    "            combined_labels = [f\"{base}\\n{idx}\" for idx, base in zip(x_positions, sequence_slice)]\n",
    "            ax.set_xticks(x_positions)\n",
    "            ax.set_xticklabels(combined_labels)\n",
    "            ax.set_xlabel(\"Base (top) and index (bottom)\")\n",
    "        else:\n",
    "            ax.set_xticks(x_positions)\n",
    "            ax.set_xticklabels(x_positions)\n",
    "            ax.set_xlabel(\"Sequence index\")\n",
    "\n",
    "    else:\n",
    "        plt.xticks(plot_positions)\n",
    "\n",
    "\n",
    "    plt.xlim(xlim_start, xlim_end)\n",
    "    plt.title(reference_of_interest)\n",
    "    plt.ylim(40, 150)\n",
    "    plt.ylabel(\"Event level mean (pA)\")\n",
    "    plt.grid(color='gray', linestyle='-', linewidth=0.3, alpha=1/30)\n",
    "\n",
    "    if highlight_positions is not None:\n",
    "        for position in highlight_positions:\n",
    "            plt.axvspan(position - 0.5, position + 0.5, color='yellow', alpha=0.3)\n",
    "\n",
    "    plt.tight_layout()\n",
    "    plt.show()\n"
   ]
  },
  {
   "cell_type": "code",
   "execution_count": null,
   "id": "d7429a84-08bd-47a7-8c56-57309cbc0659",
   "metadata": {
    "jupyter": {
     "source_hidden": true
    }
   },
   "outputs": [],
   "source": [
    "def plot_event_level_means_two_samples_with_seq(\n",
    "    event_level_df_1,\n",
    "    event_level_df_2,\n",
    "    xlim_start=0,\n",
    "    xlim_end=20,\n",
    "    max_reads=None,\n",
    "    alpha_lines=1/200,\n",
    "    sample_labels=None,\n",
    "    highlight_positions= None,\n",
    "    sequence= None\n",
    "):\n",
    "    \"\"\"\n",
    "    Plot trimmean signals for 3 samples on the same plot.\n",
    "    \n",
    "    Parameters:\n",
    "        event_level_df_1/2: pd.DataFrame with event levels means per read (row) per positoin (column)\n",
    "        xlim_start/xlim_end: int, x-axis boundaries\n",
    "        max_reads: int, maximum numbers of reads to plot\n",
    "        alpha_lines: float, transparency\n",
    "        sample_labels: list[str], list of 3 labels\n",
    "        highlight_positions: list[int] list of positions (indices) of interest\n",
    "        sequence: [str], sequence of region of interest as a list of characters\n",
    "    \"\"\"\n",
    "    all_metrics = [event_level_df_1, event_level_df_2]\n",
    "    colors = ['#009E73', \"#7851A9\"]\n",
    "    if sample_labels is None:\n",
    "        sample_labels = ['Sample 1', 'Sample 2']\n",
    "\n",
    "    plt.figure(figsize=(10, 6))\n",
    "\n",
    "    for idx, sample in enumerate(all_metrics):\n",
    "        event_level_data = all_metrics[idx]\n",
    "        print(f\"Shape of metric array {sample_labels[idx]}: { event_level_data.shape}\")\n",
    "\n",
    "        # Downsample if needed\n",
    "        if max_reads is not None and len(event_level_data) > max_reads:\n",
    "            data_to_plot =  event_level_data.sample(n=max_reads, random_state=42)\n",
    "        else:\n",
    "            data_to_plot =  event_level_data\n",
    "\n",
    "        for i in range(len(data_to_plot)):\n",
    "            plt.plot(\n",
    "                data_to_plot.columns,\n",
    "                data_to_plot.iloc[i],\n",
    "                color=colors[idx],\n",
    "                alpha=alpha_lines,\n",
    "                label=sample_labels[idx] if i == 0 else \"\"\n",
    "            )\n",
    "\n",
    "        print(f\"Plotting {len(data_to_plot)} reads for {sample_labels[idx]}\")\n",
    "\n",
    "    # Show both sequence and position if sequence is provided\n",
    "    if sequence is not None:\n",
    "        print(f\"The sequence being plotted is {len(sequence[xlim_start:xlim_end])} nt\")\n",
    "        \n",
    "        ax = plt.gca()  # Get current axis\n",
    "\n",
    "        # x-axis tick positions\n",
    "        x_positions = list(range(xlim_start, xlim_end))\n",
    "\n",
    "        if sequence is not None:\n",
    "            sequence_slice = sequence[xlim_start:xlim_end]\n",
    "            if len(sequence_slice) != (xlim_end - xlim_start):\n",
    "                raise ValueError(\"Length of sequence slice does not match expected range.\")\n",
    "\n",
    "            # Combine sequence and index labels with newline\n",
    "            combined_labels = [f\"{base}\\n{idx}\" for idx, base in zip(x_positions, sequence_slice)]\n",
    "            ax.set_xticks(x_positions)\n",
    "            ax.set_xticklabels(combined_labels)\n",
    "            ax.set_xlabel(\"Base (top) and index (bottom)\")\n",
    "        else:\n",
    "            ax.set_xticks(x_positions)\n",
    "            ax.set_xticklabels(x_positions)\n",
    "            ax.set_xlabel(\"Sequence index\")\n",
    "\n",
    "    else:\n",
    "        plt.xticks(plot_positions)\n",
    "        \n",
    "    plt.xlim(xlim_start, xlim_end)\n",
    "\n",
    "    plt.title(reference_of_interest)\n",
    "    plt.ylabel(\"Event level mean (pA)\")\n",
    "    plt.grid(color='gray', linestyle='-', linewidth=0.3, alpha=1/30)\n",
    "    plt.legend()\n",
    "    plt.tight_layout()\n",
    "\n",
    "    if highlight_positions is not None:\n",
    "        for position in highlight_positions:\n",
    "            plt.axvspan(position-0.5, position+0.5, color='yellow', alpha=0.3)\n",
    "\n",
    "    plt.show()"
   ]
  },
  {
   "cell_type": "markdown",
   "id": "ab30754e-f82b-4189-a89c-6d76e48c0d20",
   "metadata": {},
   "source": [
    "#### Scatterplot"
   ]
  },
  {
   "cell_type": "code",
   "execution_count": null,
   "id": "05a2d04c-7053-42ec-be2e-e88ab5e31b96",
   "metadata": {
    "jupyter": {
     "source_hidden": true
    }
   },
   "outputs": [],
   "source": [
    "def plot_mean_and_sd_of_event_level_two_samples(\n",
    "    event_level_df_1,\n",
    "    event_level_df_2,\n",
    "    xlim_start,\n",
    "    xlim_end,\n",
    "    sample_labels,\n",
    "    colors=None \n",
    "):\n",
    "    \"\"\"\n",
    "    Plot dotplots of the mean and sd of the trimmean values per position for 3 samples.\n",
    "    \n",
    "    Parameters:\n",
    "        event_level_df_1/2: pd.DataFrame with event levels means per read (row) per positoin (column)\n",
    "        xlim_start/xlim_end: x-axis boundaries, define region\n",
    "        sample_labels: list of 3 labels\n",
    "        colors: list of colours for each sample: \n",
    "    \"\"\"\n",
    "    all_metrics = [event_level_df_1,event_level_df_2]\n",
    "    all_means = []\n",
    "    all_sds = []\n",
    "\n",
    "    for i, sample in enumerate(all_metrics):\n",
    "        event_level_data = sample\n",
    "\n",
    "        # Mean\n",
    "        event_level_mean = event_level_data.mean()\n",
    "        df_mean = pd.DataFrame({\n",
    "            'position': range(len(event_level_mean)),\n",
    "            'value': event_level_mean,\n",
    "            'label': sample_labels[i]\n",
    "        })\n",
    "        all_means.append(df_mean)\n",
    "\n",
    "        # SD\n",
    "        event_level_sd = event_level_data.std()\n",
    "        df_sd = pd.DataFrame({\n",
    "            'position': range(len(event_level_sd)),\n",
    "            'value': event_level_sd,\n",
    "            'label': sample_labels[i]\n",
    "        })\n",
    "        all_sds.append(df_sd)\n",
    "\n",
    "    # Combine all\n",
    "    df_all_means = pd.concat(all_means, ignore_index=True)\n",
    "    df_all_sds = pd.concat(all_sds, ignore_index=True)\n",
    "\n",
    "\n",
    "    # Default colors if none given\n",
    "    if colors is None:\n",
    "        colors = ['#009E73', \"#7851A9\"]\n",
    "    x_ticks = list(range(xlim_start, xlim_end + 1, 5))\n",
    "\n",
    "    # Filter by xlim\n",
    "    df_plot_means = df_all_means.query(\"position >= @xlim_start and position <= @xlim_end\")\n",
    "    df_plot_sds = df_all_sds.query(\"position >= @xlim_start and position <= @xlim_end\")\n",
    "\n",
    "    # Plotting\n",
    "    fig, axs = plt.subplots(2, 1, figsize=(12, 8), sharex=True)\n",
    "\n",
    "    # Plot Mean\n",
    "    for i, label in enumerate(sample_labels):\n",
    "        subset = df_plot_means[df_plot_means['label'] == label]\n",
    "        axs[0].scatter(subset['position'], subset['value'], label=label, color=colors[i], s=15)\n",
    "\n",
    "    axs[0].set_title(f\"Mean Trimmean\")\n",
    "    axs[0].set_ylabel(\"Mean of trimmed mean\")\n",
    "    axs[0].set_ylim(50, 150)\n",
    "    mean_yticks = np.arange(50, 155, 25)\n",
    "    axs[0].set_yticks(mean_yticks)\n",
    "    axs[0].legend()\n",
    "    axs[0].grid(True, alpha = 0.5)\n",
    "\n",
    "    # Plot SD\n",
    "    for i, label in enumerate(sample_labels):\n",
    "        subset = df_plot_sds[df_plot_sds['label'] == label]\n",
    "        axs[1].scatter(subset['position'], subset['value'], label=label, color=colors[i], s=15)\n",
    "\n",
    "    \n",
    "    #axs[1].axhline(y=1, color='red', linestyle='--', linewidth=1, label='SD=1 threshold')\n",
    "\n",
    "    axs[1].set_title(f\"SD Trimmean\")\n",
    "    axs[1].set_xlabel(\"Reference Position\")\n",
    "    axs[1].set_ylabel(\"SD of trimmed mean\")\n",
    "    axs[1].set_ylim(0,20)\n",
    "    sd_yticks = np.arange(0, 21, 2)\n",
    "    axs[1].set_yticks(sd_yticks)\n",
    "    axs[1].set_xticks(x_ticks)\n",
    "    axs[1].legend()\n",
    "    axs[1].grid(True, alpha = 0.5)\n",
    "\n",
    "    plt.tight_layout()\n",
    "    plt.show()\n",
    "\n",
    "    # Print SD summary\n",
    "    print(\"Mean SD values per sample:\")\n",
    "    for i, df in enumerate(all_sds):\n",
    "        print(f\"{sample_labels[i]}: {np.mean(df['value']):.4f}\")\n"
   ]
  },
  {
   "cell_type": "markdown",
   "id": "e2645a67-602e-440e-a0d6-e813b8774f3f",
   "metadata": {},
   "source": [
    "#### Violin plot"
   ]
  },
  {
   "cell_type": "code",
   "execution_count": null,
   "id": "ef52a3bb-9055-43ce-933a-cdbe49c33239",
   "metadata": {
    "jupyter": {
     "source_hidden": true
    }
   },
   "outputs": [],
   "source": [
    "def plot_event_level_means_violinplot_two(\n",
    "    event_level_df_1,\n",
    "    event_level_df_2,\n",
    "    sample_labels=[\"Sample 1\", \"Sample 2\"],\n",
    "    xlim_start=0,\n",
    "    xlim_end=20,\n",
    "    \n",
    "    highlight_positions_one_ionic=None,\n",
    "    highlight_positions_two_ionic = None,\n",
    "    highlight_positions_three = None,\n",
    "    highlight_positions_basecalled = None,\n",
    "    highlight_positions_basecalled_one= None,\n",
    "    highlight_positions_excluded = None,\n",
    "    \n",
    "    sequence=None,\n",
    "    reference_of_interest=\"\", \n",
    "    title = None, \n",
    "    legend = 'yes'\n",
    "):\n",
    "    \"\"\"\n",
    "    Plot split violin plots of event-level means per position for two samples.\n",
    "\n",
    "    Parameters:\n",
    "        event_level_df_1/2: pd.DataFrame with event levels means per read (row) per positoin (column)\n",
    "        sample_labels: list[str], list of 2 labels\n",
    "        xlim_start/xlim_end: x-axis boundaries, define region\n",
    "\n",
    "        highlight_positions_one_ionic: list[int], positions predicted by only this ionic current analysis\n",
    "        highlight_positions_two_ionic: list[int], positions predicted by both ionic current analyses\n",
    "        highlight_positions_three: list[int], positions predicted by both ionic current analyses and basecalled modification analysis\n",
    "        highlight_positions_basecalled: list[int], positions predicted by only basecalled modification analysis\n",
    "        highlight_positions_basecalled_one: list[int], positions predicted by this ionic current analysis and basecalled modification analysis\n",
    "        highlight_positions_excluded: list[int], positions excluded from the analysis\n",
    "        \n",
    "        sequence: str or None,  optional sequence string for annotated x-axis.\n",
    "        reference_of_interest: str, defining the reference region of interest\n",
    "        title: str or None, title of the figure\n",
    "        legend: str 'yes' or 'no', binary to indicate whether to plot the legend\n",
    "    \"\"\"\n",
    "\n",
    "    dfs = [event_level_df_1, event_level_df_2]\n",
    "\n",
    "    dfs_long = []\n",
    "    for df, label in zip(dfs, sample_labels):\n",
    "\n",
    "        cols_in_range = [pos for pos in df.columns if isinstance(pos, (int, float)) and xlim_start <= pos <= xlim_end]\n",
    "        df = df.loc[:, cols_in_range]\n",
    "\n",
    "        df_long = df.melt(var_name=\"Position\", value_name=\"Trimmean\")\n",
    "        df_long[\"Sample\"] = label\n",
    "        dfs_long.append(df_long)\n",
    "\n",
    "    df_all = pd.concat(dfs_long, ignore_index=True)\n",
    "\n",
    "    full_positions = list(range(xlim_start, xlim_end + 1))\n",
    "    df_all[\"Position\"] = pd.Categorical(df_all[\"Position\"], categories=full_positions, ordered=True)\n",
    "\n",
    "    custom_palette = {\n",
    "        sample_labels[0]: '#009E73',\n",
    "        sample_labels[1]: \"#7851A9\"\n",
    "    }\n",
    "\n",
    "    \n",
    "    # Ensure Position is a categorical variable with proper ordering\n",
    "    full_positions = list(range(xlim_start, xlim_end + 1))\n",
    "    df_all[\"Position\"] = pd.Categorical(df_all[\"Position\"], categories=full_positions, ordered=True)\n",
    "\n",
    "    # Configure plot\n",
    "    custom_palette = {\n",
    "        sample_labels[0]: '#009E73',  # Biological\n",
    "        sample_labels[1]: \"#7851A9\"   # IVT\n",
    "    }\n",
    "    fig_width = 10 if legend == 'yes' else 6\n",
    "    plt.figure(figsize=(fig_width, 4))\n",
    "\n",
    "    # Highlight positions\n",
    "    def add_highlight(highlight_list, color, alpha):\n",
    "        if highlight_list is not None:\n",
    "            for pos in highlight_list:\n",
    "                if pos in full_positions:\n",
    "                    idx = full_positions.index(pos)\n",
    "                    plt.axvspan(idx - 0.5, idx + 0.5, color=color, alpha=alpha)\n",
    "\n",
    "    add_highlight(highlight_positions_one_ionic, 'yellow', 0.1)\n",
    "    add_highlight(highlight_positions_two_ionic, 'orange', 0.2)\n",
    "    add_highlight(highlight_positions_three, 'red', 0.2)\n",
    "    add_highlight(highlight_positions_basecalled, 'lightskyblue', 0.3)\n",
    "    add_highlight(highlight_positions_basecalled_one, 'limegreen', 0.2)\n",
    "    add_highlight(highlight_positions_excluded, 'grey', 0.2)\n",
    "\n",
    "    # Plot violins\n",
    "    ax = sns.violinplot(\n",
    "        data=df_all,\n",
    "        x=\"Position\",\n",
    "        y=\"Trimmean\",\n",
    "        hue=\"Sample\",\n",
    "        palette=custom_palette,\n",
    "        split=True,\n",
    "        inner=\"quartile\",\n",
    "        linewidth=0.8,\n",
    "        scale=\"width\",\n",
    "        bw=0.2\n",
    "    )\n",
    "    plt.xlim(-0.5, len(full_positions) - 0.5)\n",
    "\n",
    "    # X-axis\n",
    "    if sequence is not None:\n",
    "        sequence_slice = sequence[xlim_start:xlim_end+1]\n",
    "        combined_labels = [f\"{base}\\n{pos}\" for base, pos in zip(sequence_slice, full_positions)]\n",
    "        ax.set_xticks(range(len(full_positions)))\n",
    "        ax.set_xticklabels(combined_labels, fontsize=14)\n",
    "        ax.set_xlabel(\"Base (top) and position (bottom)\", fontsize=14)\n",
    "    else:\n",
    "        ax.set_xlabel(\"Position\", fontsize=14)\n",
    "\n",
    "    # Y-axis\n",
    "    plt.ylim(40, 150)\n",
    "    plt.ylabel(f\"Mean signal level (pA)\", fontsize=14)\n",
    "    ax.tick_params(axis='y', labelsize=14)\n",
    "    ytick_vals = np.arange(40, 150, 10)\n",
    "    ytick_labels = [str(val) if val % 20 == 0 else \"\" for val in ytick_vals]\n",
    "    plt.yticks(ytick_vals, ytick_labels)\n",
    "\n",
    "    # Title and grid\n",
    "    plt.title(title if title is not None else ref_reg.ctg)\n",
    "    plt.grid(color='gray', linestyle='-', linewidth=0.3, alpha=1/30)\n",
    "    plt.grid(axis='y', linestyle='-', linewidth=0.3, alpha=0.7)\n",
    "\n",
    "    # Plot legend\n",
    "    sample_handles = [\n",
    "        mpatches.Patch(color='#009E73', label='Biological'),\n",
    "        mpatches.Patch(color='#7851A9', label='IVT')\n",
    "    ]\n",
    "    legend_handles = []\n",
    "    if highlight_positions_one_ionic is not None:\n",
    "        legend_handles.append(mpatches.Patch(color='yellow', alpha=0.1, label='Predicted by one ionic current analysis'))\n",
    "    if highlight_positions_two_ionic is not None:\n",
    "        legend_handles.append(mpatches.Patch(color='orange', alpha=0.2, label='Predicted by both ionic current analyses'))\n",
    "    if highlight_positions_basecalled is not None:\n",
    "        legend_handles.append(mpatches.Patch(color='lightskyblue', alpha=0.3, label='Predicted by modification basecalling'))\n",
    "    if highlight_positions_three is not None:\n",
    "        legend_handles.append(mpatches.Patch(color='red', alpha=0.2, label='Predicted by all three analyses'))\n",
    "    if highlight_positions_basecalled_one is not None:\n",
    "        legend_handles.append(mpatches.Patch(color='limegreen', alpha=0.2, label='Predicted by ionic + basecalling'))\n",
    "    if highlight_positions_excluded is not None:\n",
    "        legend_handles.append(mpatches.Patch(color='grey', alpha=0.2, label='Excluded from analyses'))\n",
    "\n",
    "    if legend == 'yes':\n",
    "        all_handles = sample_handles + legend_handles\n",
    "        ax.legend(\n",
    "            handles=all_handles,\n",
    "            labels=[h.get_label() for h in all_handles],\n",
    "            fontsize=12,\n",
    "            bbox_to_anchor=(1.02, 1),\n",
    "            ncol=2,\n",
    "            loc='upper left',\n",
    "            borderaxespad=0\n",
    "        )\n",
    "    elif legend == 'no':\n",
    "        ax.legend_.remove()\n",
    "\n",
    "    # Show\n",
    "    plt.tight_layout()\n",
    "    plt.show()"
   ]
  },
  {
   "cell_type": "markdown",
   "id": "effeb69a-16c5-406f-95a5-402438991fec",
   "metadata": {},
   "source": [
    "## 3. Data loading"
   ]
  },
  {
   "cell_type": "markdown",
   "id": "589f1bdc-0550-41dc-90c7-51eab3f0c33b",
   "metadata": {},
   "source": [
    "Define region of interest"
   ]
  },
  {
   "cell_type": "code",
   "execution_count": null,
   "id": "96a98b4e-1cb6-4283-ab32-55fde3d44951",
   "metadata": {},
   "outputs": [],
   "source": [
    "reference_of_interest = [contig_name]"
   ]
  },
  {
   "cell_type": "markdown",
   "id": "d463d332-5d41-4c6d-9954-4fc4b52754aa",
   "metadata": {},
   "source": [
    "### Load the data for both samples\n",
    "This is the .tsv file made by f5c eventalign."
   ]
  },
  {
   "cell_type": "code",
   "execution_count": null,
   "id": "542737c1-b6b4-4775-9e32-c2d5be2a80be",
   "metadata": {},
   "outputs": [],
   "source": [
    "f5c_output_bio_all = pd.read_csv('path/to/data/bio_f5c_eventalign.tsv', sep='\\t')\n",
    "print(f\"Number of reads for all reference entries for biological sample: {f5c_output_bio_all['read_name'].nunique()}\")\n",
    "f5c_output_bio = f5c_output_bio_all[f5c_output_bio_all['contig']==reference_of_interest]\n",
    "print(f\"Number of reads for reference of interest for biological sample: {f5c_output_bio['read_name'].nunique()}\")\n",
    "print('\\n')\n",
    "\n",
    "f5c_output_IVT =  pd.read_csv('path/to/data/IVT_f5c_eventalign_.tsv', sep='\\t')\n",
    "print(f\"Number of reads for reference of interest for IVT: {f5c_output_IVT['read_name'].nunique()}\")"
   ]
  },
  {
   "cell_type": "markdown",
   "id": "1503b505-7366-44ea-af3b-e68df3964907",
   "metadata": {},
   "source": [
    "### Get the list of read-IDs which are selected by f5c eventalign\n",
    "F5c eventalign selects reads by several criteria. To infer which reads are used, and input the same selection in other analysis, the code below shows how to extract the read-IDs for the .tsv output."
   ]
  },
  {
   "cell_type": "markdown",
   "id": "6184ffb0-e7e2-4ea3-b23b-4cfc6ccd0dd3",
   "metadata": {},
   "source": [
    "#### Biological sample"
   ]
  },
  {
   "cell_type": "code",
   "execution_count": null,
   "id": "a66d110a-4dd6-4b4b-bd20-b8d4dc67bc7a",
   "metadata": {},
   "outputs": [],
   "source": [
    "ref_entries_unique_bio = list(f5c_output_bio_all['contig'].unique())\n",
    "\n",
    "print(f\"The total number of ref entries within Eventalign output: {len(ref_entries_unique_bio)}\")\n",
    "total_reads_bio= 0\n",
    "ref_read_counts_bio = []\n",
    "read_ids_bio = []\n",
    "for entry in ref_entries_unique_bio:\n",
    "    num_reads = len(f5c_output_bio_all[f5c_output_bio_all['contig']==entry][\"read_name\"].unique())\n",
    "    read_ids_bio.extend(f5c_output_bio_all[f5c_output_bio_all['contig']==entry][\"read_name\"].unique())\n",
    "\n",
    "    ref_read_counts_bio.append(num_reads)\n",
    "    total_reads_bio += num_reads\n",
    "\n",
    "print(f\"The total number of primary reads within Eventalign output: {total_reads}\")\n",
    "eventalign_counts_bio = pd.DataFrame({\n",
    "    'ref_contig' : ref_entries_unique_bio,\n",
    "    'counts' : ref_read_counts_bio\n",
    "})\n",
    "eventalign_counts_bio"
   ]
  },
  {
   "cell_type": "code",
   "execution_count": null,
   "id": "a452c03d-f793-4437-8137-34016372e320",
   "metadata": {
    "scrolled": true
   },
   "outputs": [],
   "source": [
    "## Extracting the read_IDs used by f5c\n",
    "with open('/data/[...].txt', 'w') as f:\n",
    "    for item in read_ids_bio:\n",
    "        f.write(f\"{item}\\n\")"
   ]
  },
  {
   "cell_type": "markdown",
   "id": "13be6764-701e-4eff-9a1b-373ffa2b05f3",
   "metadata": {},
   "source": [
    "#### IVT sample"
   ]
  },
  {
   "cell_type": "code",
   "execution_count": null,
   "id": "c0117657-ef2d-4739-8f8f-ac42817ad650",
   "metadata": {},
   "outputs": [],
   "source": [
    "ref_entries_unique_IVT = list(f5c_output_IVT['contig'].unique())\n",
    "\n",
    "print(f\"The total number of ref entries within Eventalign output: {len(ref_entries_unique_IVT)}\")\n",
    "total_reads_IVT= 0\n",
    "ref_read_counts_IVT = []\n",
    "read_ids_IVT = []\n",
    "for entry in ref_entries_unique_IVT:\n",
    "    num_reads = len(f5c_output_IVT[f5c_output_IVT['contig']==entry][\"read_name\"].unique())\n",
    "    read_ids_IVT.extend(f5c_output_IVT[f5c_output_IVT['contig']==entry][\"read_name\"].unique())\n",
    "\n",
    "    ref_read_counts_IVT.append(num_reads)\n",
    "    total_reads_IVT += num_reads\n",
    "\n",
    "print(f\"The total number of primary reads within Eventalign output: {total_reads}\")\n",
    "eventalign_counts_IVT = pd.DataFrame({\n",
    "    'ref_contig' : ref_entries_unique_IVT,\n",
    "    'counts' : ref_read_counts_IVT\n",
    "})\n",
    "eventalign_counts_IVT"
   ]
  },
  {
   "cell_type": "code",
   "execution_count": null,
   "id": "5a38ac4f-d6d2-40a2-b269-6f1f9882f11b",
   "metadata": {
    "scrolled": true
   },
   "outputs": [],
   "source": [
    "## Extracting the read_IDs used by f5c\n",
    "with open('/data/[...].txt', 'w') as f:\n",
    "    for item in read_ids_IVT:\n",
    "        f.write(f\"{item}\\n\")"
   ]
  },
  {
   "cell_type": "markdown",
   "id": "62769ff3-3d16-47b8-a7c0-729be9ab93f5",
   "metadata": {},
   "source": [
    "### Load in the subsamples of the IVT sample\n",
    "These are made in 'Remora_ionic_current_analysis_tRNA.ipynb'"
   ]
  },
  {
   "cell_type": "code",
   "execution_count": null,
   "id": "aeb13684-849e-46ad-aefb-2327e1cce155",
   "metadata": {},
   "outputs": [],
   "source": [
    "with open(\"path/to/data/subsamples_IVT.pkl\", \"rb\") as f:\n",
    "    subsamples = pickle.load(f)\n",
    "print(f\"The number of subsamples is {len(subsamples)}, each with size: {len(subsamples[0])}\")"
   ]
  },
  {
   "cell_type": "markdown",
   "id": "de7dec1f-057b-4ac2-8e7c-a47082998162",
   "metadata": {},
   "source": [
    "## 4. Data preparation"
   ]
  },
  {
   "cell_type": "markdown",
   "id": "746eefee-23a6-4503-b23c-95ffb08f29b0",
   "metadata": {},
   "source": [
    "### Converting signals per k-mers to signals per reference base"
   ]
  },
  {
   "cell_type": "code",
   "execution_count": null,
   "id": "32bed05c-8294-4434-90a9-46fb375d7083",
   "metadata": {},
   "outputs": [],
   "source": [
    "f5c_output_bio = convert_kmers_to_base_positions(f5c_output_bio, center_index =5)\n",
    "print(f\"Biological sample:\")\n",
    "print(f\"\\tThe columns of the dataframe: {list(f5c_output_bio.columns)}\")\n",
    "print(f\"\\tThe dataframe has {f5c_output_bio.shape[0]} rows and {f5c_output_bio.shape[1]} columns\")"
   ]
  },
  {
   "cell_type": "code",
   "execution_count": null,
   "id": "4d074995-0dc8-4d07-b963-26fece0b4437",
   "metadata": {},
   "outputs": [],
   "source": [
    "f5c_output_IVT = convert_kmers_to_base_positions(f5c_output_IVT, center_index =5)\n",
    "print(f\"IVT sample:\")\n",
    "print(f\"\\tThe columns of the dataframe: {list(f5c_output_IVT.columns)}\")\n",
    "print(f\"\\tThe dataframe has {f5c_output_IVT.shape[0]} rows and {f5c_output_IVT.shape[1]} columns\")"
   ]
  },
  {
   "cell_type": "markdown",
   "id": "af3046e9-4e6d-4cb8-ad9c-7da901d30db1",
   "metadata": {},
   "source": [
    "## 5. Statistical comparison"
   ]
  },
  {
   "cell_type": "markdown",
   "id": "2ef9cb38-63f7-4246-b980-3eda69f48fdf",
   "metadata": {},
   "source": [
    "### MWU testing with subsampling"
   ]
  },
  {
   "cell_type": "code",
   "execution_count": null,
   "id": "3b991212-d4ee-47b0-b1a0-38c9ff5c54c1",
   "metadata": {
    "scrolled": true
   },
   "outputs": [],
   "source": [
    "start_time = datetime.now()\n",
    "print(f\"Started at: {start_time}\")\n",
    "\n",
    "min_reads = 30\n",
    "threshold = 0.01\n",
    "all_MWU_results = []\n",
    "samples_labels= ['Biological', 'IVT']\n",
    "for i, subsample in enumerate(subsamples):\n",
    "    # Make a subsample_df for each subsample\n",
    "    subsample_IVT_df = f5c_output_IVT[f5c_output_IVT['read_name'].isin(subsample)]\n",
    "    print(f\"\\nProcessing subsample {i+1}/{len(subsamples)} with {len(subsample_IVT_df)} reads\")\n",
    "\n",
    "    # Make a list of positions for which both samples have data\n",
    "    positions_bio= list(f5c_output_bio['base_position'].unique())\n",
    "    positions_IVT= list(subsample_IVT_df['base_position'].unique())\n",
    "\n",
    "    positions_common = list(set(positions_bio) & set(positions_IVT))\n",
    "    print(f\"The number of positions to analyse {len(positions_common)}\")\n",
    "    \n",
    "    MWU_results_subsample_df, MWU_sig_positions_subsample = compute_MWU_results(\n",
    "            f5c_output_1 = f5c_output_bio,\n",
    "            f5c_output_2 = subsample_IVT_df,\n",
    "            common_positions_list = positions_common,\n",
    "            samples_labels= ['Biological', 'IVT']\n",
    "            )\n",
    "    MWU_results_subsample_df['subsample'] = i  # tag which subsample this is from\n",
    "    all_MWU_results.append(MWU_results_subsample_df)\n",
    "print('\\n\\nDone with calculating all the MWU-tests')\n",
    "combined_df = pd.concat(all_MWU_results, ignore_index=True)\n",
    "\n",
    "# Count how many times each position is significant\n",
    "position_counts = combined_df['base_position'].value_counts()\n",
    "stable_positions = position_counts[position_counts >= 0.9 * 50].index  # 90% of 50 subsamples\n",
    "\n",
    "# Filter all results for only the stable positions, i.e. positions which returned significant in 90% of the bootstrapped subsamples\n",
    "stable_results = combined_df[combined_df['base_position'].isin(stable_positions)]\n",
    "print('Summarizing the MWU-results')\n",
    "# Summarize, e.g., mean and std of p-value, RBC, and medians\n",
    "summary = stable_results.groupby('base_position').agg({\n",
    "    'p_value': ['mean', 'std'],\n",
    "    'adjusted_p_value': ['mean', 'std'],\n",
    "    'RBC': ['mean', 'std'],\n",
    "    'median_' + samples_labels[0]: ['mean', 'std'],\n",
    "    'median_' + samples_labels[1]: ['mean', 'std']\n",
    "}).reset_index()\n",
    "summary.columns = [\n",
    "    'position',\n",
    "    'pval_mean', 'pval_std',\n",
    "    'adjusted_pval_mean', 'adjusted_pval_std',\n",
    "    'RBC_mean', 'RBC_std',\n",
    "    'median_trimmean_1_mean', 'median_trimmean_1_std',\n",
    "    'median_trimmean_2_mean', 'median_trimmean_2_std'\n",
    "]\n",
    "\n",
    "end_time = datetime.now()\n",
    "print(f\"Ended at: {end_time}\")"
   ]
  },
  {
   "cell_type": "code",
   "execution_count": null,
   "id": "040768f5-009d-4137-8ce6-51a314f2c2cf",
   "metadata": {},
   "outputs": [],
   "source": [
    "print(f\"MWU-testing results:\")\n",
    "\n",
    "print(f\"\\tThe number of significant positions: {len(list(summary['position'].values))}\")\n",
    "print(f\"\\tThe significant positions: {list(summary['position'].values)}\")"
   ]
  },
  {
   "cell_type": "markdown",
   "id": "4affab12-9a2c-4ff2-a238-56025519a607",
   "metadata": {},
   "source": [
    "### Exporting these results"
   ]
  },
  {
   "cell_type": "code",
   "execution_count": null,
   "id": "699b3e02-2e75-406b-b101-73a0b5ee30ee",
   "metadata": {},
   "outputs": [],
   "source": [
    "summary.to_csv(\"/path/to/data/f5c_results.csv\", index=False)"
   ]
  },
  {
   "cell_type": "markdown",
   "id": "923f2080-dcee-4954-a170-701e99c6a2ff",
   "metadata": {},
   "source": [
    "### MWU testing without subsampling"
   ]
  },
  {
   "cell_type": "code",
   "execution_count": null,
   "id": "d0d7dfd6-32a7-4ce8-be2b-1bbb93328162",
   "metadata": {},
   "outputs": [],
   "source": [
    "# Make a list of positions for which both samples have data\n",
    "positions_bio= list(f5c_output_bio['base_position'].unique())\n",
    "positions_IVT= list(f5c_output_IVT['base_position'].unique())\n",
    "positions_common = list(set(positions_bio) & set(positions_IVT))\n",
    "print(f\"The number of positions in common between biological and IVT sample: {len(positions_common)}\")\n",
    "print(\"\\n\")\n",
    "MWU_results_df, MWU_sig_positions = compute_MWU_results(\n",
    "            f5c_output_1 = f5c_output_bio,\n",
    "            f5c_output_2 = f5c_output_IVT,\n",
    "            common_positions_list = positions_common,\n",
    "            samples_labels= ['Biological', 'IVT']\n",
    "            )\n",
    "print(f\"\\nMWU-testing results without bootstrapping:\")\n",
    "print(f\"\\tThe number of significant positions: {len(MWU_sig_positions)}\")\n",
    "print(f\"\\tThe significant positions: {list(MWU_sig_positions)}\")"
   ]
  },
  {
   "cell_type": "markdown",
   "id": "36343ec8-6766-40cc-aaac-9ea531124d1c",
   "metadata": {},
   "source": [
    "## 6. Visualisation"
   ]
  },
  {
   "cell_type": "markdown",
   "id": "3eea6b25-185f-48b6-88a9-aa79184e5f5d",
   "metadata": {},
   "source": [
    "### Some constants to set for plotting"
   ]
  },
  {
   "cell_type": "markdown",
   "id": "ff1dfcf7-5e77-4ef9-beb3-8d7cb8a56913",
   "metadata": {},
   "source": [
    "Define the colours for plotting"
   ]
  },
  {
   "cell_type": "code",
   "execution_count": null,
   "id": "0808ec41-0ea8-48d6-868f-6c6091492d90",
   "metadata": {},
   "outputs": [],
   "source": [
    "color_control = \"#009E73\"\n",
    "color_IVT = \"#CC79A7\""
   ]
  },
  {
   "cell_type": "markdown",
   "id": "1087f6f5-6467-45d4-9ab4-afe38d62730c",
   "metadata": {},
   "source": [
    "Define the sequence of the reference regions of interest"
   ]
  },
  {
   "cell_type": "code",
   "execution_count": null,
   "id": "6b33e7ff-6f73-486a-a798-119d8db42b5c",
   "metadata": {},
   "outputs": [],
   "source": [
    "seq_Glu_CTC_1_1 = \"TCCCTGGTGGTCTAGTGGTTAGGATTCGGCGCTCTCACCGCCGCGGCCCGGGTTCGATTCCCGGTCAGGGAA\"\n",
    "seq_Gly_GCC_2_1 = \"GCATTGGTGGTTCAGTGGTAGAATTCTCGCCTGCCACGCGGGAGGCCCGGGTTCGATTCCCGGCCAATGCA\"\n",
    "seq_Leu_CAA_1_1_WI = \"GTCAGGATGGCCGAGTGGTCTAAGGCGCCAGACTCAAGTTCTGGTCTCCAATGGAGGCGTGGGTTCGAATCCCACTTCTGACA\"\n",
    "seq_Leu_CAA_1_1 = \"GTCAGGATGGCCGAGTGGTCTAAGGCGCCAGACTCAAGCTAAGCTTCCTCCGCGGTGGGGATTCTGGTCTCCAATGGAGGCGTGGGTTCGAATCCCACTTCTGACA\"\n",
    "seq_Leu_CAA_1_2 = \"GTCAGGATGGCCGAGTGGTCTAAGGCGCCAGACTCAAGCTTGGCTTCCTCGTGTTGAGGATTCTGGTCTCCAATGGAGGCGTGGGTTCGAATCCCACTTCTGACA\""
   ]
  },
  {
   "cell_type": "markdown",
   "id": "e845716d-5c7c-4d76-b2b5-fc0c2508df64",
   "metadata": {},
   "source": [
    "### Converting the dataframes into row-per-read format"
   ]
  },
  {
   "cell_type": "code",
   "execution_count": null,
   "id": "a6c8f286-f7af-409e-832f-c83dbe3aa593",
   "metadata": {},
   "outputs": [],
   "source": [
    "f5c_output_bio_wide = f5c_output_bio.pivot(index='read_name',\n",
    "                                                   columns='base_position', \n",
    "                                                   values='event_level_mean')\n",
    "f5c_output_IVT_wide = f5c_output_IVT.pivot(index='read_name',\n",
    "                                                   columns='base_position', \n",
    "                                                   values='event_level_mean')\n",
    "print(f\"The wide format for biological sample has shape: {f5c_output_bio_wide.shape}\")\n",
    "print(f\"The wide format for IVT sample has shape: {f5c_output_IVT_wide.shape}\")"
   ]
  },
  {
   "cell_type": "markdown",
   "id": "ffe3a66e-c0a9-43ae-876e-3449eed69ab7",
   "metadata": {},
   "source": [
    "### Line plots: the trimmean signal levels per read"
   ]
  },
  {
   "cell_type": "markdown",
   "id": "d819ecf5-6a54-4cd9-86c3-596e2eeabf1b",
   "metadata": {},
   "source": [
    "#### Biological sample"
   ]
  },
  {
   "cell_type": "code",
   "execution_count": null,
   "id": "d2665825-09d7-459e-a3cd-e04861e242f6",
   "metadata": {},
   "outputs": [],
   "source": [
    "plot_event_level_means_one_sample_with_seq(\n",
    "    f5c_output_bio_wide, \n",
    "    xlim_start = 0,\n",
    "    xlim_end = ,\n",
    "    max_reads = , \n",
    "    alpha_lines = 1/10, \n",
    "    highlight_positions = None, \n",
    "    color = '#009E73', \n",
    "    sequence = )"
   ]
  },
  {
   "cell_type": "markdown",
   "id": "ca3c66cb-5e3b-4420-be87-69bf296b4e19",
   "metadata": {},
   "source": [
    "#### IVT sample"
   ]
  },
  {
   "cell_type": "code",
   "execution_count": null,
   "id": "3e84fccd-b1c1-4953-bf0a-0579a8e0fbba",
   "metadata": {},
   "outputs": [],
   "source": [
    "plot_event_level_means_one_sample_with_seq(\n",
    "    f5c_output_IVT_wide,\n",
    "    xlim_start = 0, \n",
    "    xlim_end = ,\n",
    "    max_reads = ,\n",
    "    alpha_lines = 1/20, \n",
    "    highlight_positions = None, \n",
    "    color = \"#7851A9\",      \n",
    "    sequence = )"
   ]
  },
  {
   "cell_type": "markdown",
   "id": "1599e5e9-9859-43dc-a600-863663c5e3b0",
   "metadata": {},
   "source": [
    "#### Biological vs IVT"
   ]
  },
  {
   "cell_type": "code",
   "execution_count": null,
   "id": "b6e69732-d0b4-43a5-87ab-c4484a325e4e",
   "metadata": {},
   "outputs": [],
   "source": [
    "plot_event_level_means_two_samples_with_seq(\n",
    "    f5c_output_bio_wide,\n",
    "    f5c_output_IVT_wide,\n",
    "    xlim_start=0,\n",
    "    xlim_end=,\n",
    "    max_reads=,\n",
    "    alpha_lines=1/10,\n",
    "    sample_labels=['Biological',  'IVT'],\n",
    "    highlight_positions= [],\n",
    "    sequence = \n",
    ")"
   ]
  },
  {
   "cell_type": "markdown",
   "id": "20af30da-576e-49a6-97a4-cde54dcfa1a9",
   "metadata": {},
   "source": [
    "### Scatterplots: mean and std of trimmed mean signal levels"
   ]
  },
  {
   "cell_type": "code",
   "execution_count": null,
   "id": "9f85e591-6200-42b7-97df-c5334b831012",
   "metadata": {},
   "outputs": [],
   "source": [
    "plot_mean_and_sd_of_event_level_two_samples(\n",
    "    event_level_df_1=f5c_output_bio_wide,\n",
    "    event_level_df_2=f5c_output_IVT_wide,\n",
    "    xlim_start = 0,\n",
    "    xlim_end = ,\n",
    "    sample_labels = ['Biological', 'IVT'],\n",
    "    colors=None \n",
    ")"
   ]
  },
  {
   "cell_type": "markdown",
   "id": "556eb139-94e2-44d0-adb8-4b5e7acf4a44",
   "metadata": {},
   "source": [
    "### Violin plots"
   ]
  },
  {
   "cell_type": "code",
   "execution_count": null,
   "id": "19fa88c6-1907-4f0f-af7a-3cc7810e842d",
   "metadata": {},
   "outputs": [],
   "source": [
    "plot_event_level_means_violinplot_two(\n",
    "    event_level_df_1 = f5c_output_bio_wide,\n",
    "    event_level_df_2 = f5c_output_IVT_wide,\n",
    "    sample_labels=[\"Biological\", \"IVT\"],\n",
    "    xlim_start=0,\n",
    "    xlim_end=,\n",
    "    highlight_positions_one_ionic=[],\n",
    "    highlight_positions_two_ionic = [],\n",
    "    highlight_positions_three = [],\n",
    "    highlight_positions_basecalled = [],\n",
    "    highlight_positions_excluded = [],\n",
    "    sequence = ,\n",
    "    reference_of_interest= reference_of_interest, title = 'f5c:', legend = \n",
    ")"
   ]
  },
  {
   "cell_type": "code",
   "execution_count": null,
   "id": "474f27a5-f07f-40bf-b6b1-ca8d79fa52d0",
   "metadata": {},
   "outputs": [],
   "source": [
    "plot_event_level_means_violinplot_two(\n",
    "    event_level_df_1 = f5c_output_bio_wide,\n",
    "    event_level_df_2 = f5c_output_IVT_wide,\n",
    "    sample_labels=[\"Biological\", \"IVT\"],\n",
    "    xlim_start=0,\n",
    "    xlim_end=,\n",
    "\n",
    "    highlight_positions_one_ionic = [],\n",
    "    highlight_positions_two_ionic = [],\n",
    "    highlight_positions_three = [],\n",
    "    highlight_positions_basecalled = [],\n",
    "    sequence = ,\n",
    "    reference_of_interest= reference_of_interest, title = 'f5c: ', legend = 'no'\n",
    ")"
   ]
  }
 ],
 "metadata": {
  "kernelspec": {
   "display_name": "Python (polars_env)",
   "language": "python",
   "name": "polars_env"
  },
  "language_info": {
   "codemirror_mode": {
    "name": "ipython",
    "version": 3
   },
   "file_extension": ".py",
   "mimetype": "text/x-python",
   "name": "python",
   "nbconvert_exporter": "python",
   "pygments_lexer": "ipython3",
   "version": "3.11.13"
  }
 },
 "nbformat": 4,
 "nbformat_minor": 5
}
