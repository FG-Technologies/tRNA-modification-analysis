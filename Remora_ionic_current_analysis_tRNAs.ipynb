{
 "cells": [
  {
   "cell_type": "markdown",
   "id": "46ecd45c-f35c-4a9b-b7a2-e51f994a6ec2",
   "metadata": {},
   "source": [
    "# Remora ionic current analysis for tRNAs"
   ]
  },
  {
   "cell_type": "markdown",
   "id": "97ef9c85-7467-47ed-9c4c-61d2d5737a83",
   "metadata": {},
   "source": [
    "This notebooks aims to apply signal alignment using Remora's 'dwell_penalty' algorithm with subsequent statistical comparison of trimmed mean signal levels per base positions, anchored on the reference sequences.\n",
    "Content of this notebook:\n",
    "1. Import of required python packages\n",
    "2. Functions\n",
    "3. Data loading\n",
    "4. Signal Alignment\n",
    "5. Statistical comparison\n",
    "6. Visualisation\n",
    "\n",
    "This is mainly based on the Remora API notebooks (https://github.com/nanoporetech/remora/tree/master/notebooks)"
   ]
  },
  {
   "cell_type": "markdown",
   "id": "901426a3-2f4a-4862-9bf2-b737e9777dfb",
   "metadata": {},
   "source": [
    "## 1. Import of required python packages"
   ]
  },
  {
   "cell_type": "code",
   "execution_count": null,
   "id": "b188dda9-cf71-41d2-95a5-9e8bcc44597c",
   "metadata": {},
   "outputs": [],
   "source": [
    "# ---- General packages ----\n",
    "import logging\n",
    "import pickle\n",
    "import random\n",
    "import numpy as np\n",
    "import pandas as pd\n",
    "import pingouin as pg\n",
    "from datetime import datetime\n",
    "from pathlib import Path\n",
    "import polars as pl\n",
    "import patchworklib as pw\n",
    "\n",
    "# ---- For plotting ----\n",
    "import matplotlib.pyplot as plt\n",
    "import matplotlib.patches as mpatches\n",
    "\n",
    "import seaborn as sns\n",
    "\n",
    "\n",
    "# ---- Statistical testing ----\n",
    "from scipy.stats import mannwhitneyu\n",
    "from statsmodels.stats.multitest import multipletests\n",
    "\n",
    "# ---- Specific packages for input ----\n",
    "import pod5\n",
    "from pod5 import DatasetReader\n",
    "import pysam\n",
    "from remora import io, refine_signal_map, util\n",
    "\n",
    "# Silence Remora DEBUG messages\n",
    "logging.getLogger(\"Remora\").setLevel(logging.INFO)\n"
   ]
  },
  {
   "cell_type": "markdown",
   "id": "f1930752-f945-4d0c-99d4-06b52d159e5c",
   "metadata": {},
   "source": [
    "## 2. Functions"
   ]
  },
  {
   "cell_type": "markdown",
   "id": "75dabc71-a681-4b97-a434-c77a8d63c257",
   "metadata": {},
   "source": [
    "### Analysis functions"
   ]
  },
  {
   "cell_type": "markdown",
   "id": "cd7c9749-5f3f-47c9-8d71-0564542152f6",
   "metadata": {},
   "source": [
    "#### For bootstrapping the IVT sample"
   ]
  },
  {
   "cell_type": "markdown",
   "id": "dafea26b-c90f-4031-85b6-8763dc49983a",
   "metadata": {},
   "source": [
    "Due to unequal sample sizes, we used bootstrapping in which multiple samples of the IVT-tRNA sample were drawn with comparable sample size to the biological sample."
   ]
  },
  {
   "cell_type": "code",
   "execution_count": null,
   "id": "38fb6a8a-af28-4191-8862-86b9ac82d042",
   "metadata": {
    "jupyter": {
     "source_hidden": true
    }
   },
   "outputs": [],
   "source": [
    "class FilteredReadIndexedBam(io.ReadIndexedBam):\n",
    "    def __init__(self, bam_path, read_names_to_keep):\n",
    "        super().__init__(bam_path)\n",
    "        self.read_names_to_keep = read_names_to_keep\n",
    "\n",
    "    def fetch(self, *args, **kwargs):\n",
    "        for read in super().fetch(*args, **kwargs):\n",
    "            if read.query_name in self.read_names_to_keep:\n",
    "                yield read"
   ]
  },
  {
   "cell_type": "code",
   "execution_count": null,
   "id": "efbe7215-f999-41d7-8709-a57f145bd59a",
   "metadata": {
    "jupyter": {
     "source_hidden": true
    }
   },
   "outputs": [],
   "source": [
    "def take_samples_read_ids(\n",
    "    bam_path,\n",
    "    sample_size=60,\n",
    "    number_of_samples=50\n",
    "):\n",
    "    \"\"\"\n",
    "    Aim: create subsamples based on sample drawing of read-IDs.\n",
    "\n",
    "    Parameters:\n",
    "        - bam_path: the file path of the bam file of the IVT sample\n",
    "        - sample_size: the required subsample size, comparable to biological sample\n",
    "        - number_of_samples: the required number of subsamples\n",
    "    \"\"\"\n",
    "    \n",
    "    # Open BAM and get all read names\n",
    "    bam_file = pysam.AlignmentFile(bam_path, \"rb\")\n",
    "    all_read_names = [read.query_name for read in bam_file if not read.is_secondary]\n",
    "    bam_file.close()\n",
    "\n",
    "    # Ensure the pool is large enough\n",
    "    if sample_size > len(all_read_names):\n",
    "        raise ValueError(\"Sample size exceeds total number of unique reads available.\")\n",
    "\n",
    "    # Create multiple subsamples\n",
    "    samples = [\n",
    "        random.sample(all_read_names, k=sample_size)  # without replacement\n",
    "        for _ in range(number_of_samples)\n",
    "    ]\n",
    "\n",
    "    print(f\"Generated {len(samples)} samples, each with {sample_size} unique read IDs.\")\n",
    "    return samples"
   ]
  },
  {
   "cell_type": "markdown",
   "id": "fe0e1405-6b15-47e6-b9bb-2e563eac44e2",
   "metadata": {},
   "source": [
    "#### MWU testing"
   ]
  },
  {
   "cell_type": "code",
   "execution_count": null,
   "id": "2f704454-20b7-4ea5-9417-db0ca25e3ee8",
   "metadata": {
    "jupyter": {
     "source_hidden": true
    }
   },
   "outputs": [],
   "source": [
    "def make_MWU_df(\n",
    "    ref_reg,\n",
    "    samples_metrics_1,\n",
    "    samples_metrics_2,\n",
    "    min_reads = 30,\n",
    "    ):\n",
    "    \"\"\"\n",
    "    Make a dataframe in which Mann-Whitney U test is applied per position with FDR-correction.\n",
    "\n",
    "    Parameters:\n",
    "        ref_reg: the tRNA reference region of interest\n",
    "        samples_metrics_1/2: metric dicts for each sample, including the trimmmed means\n",
    "        min_reads: the minimum amount of reads used in analysis (only testing for significance for positions with enough reads)\n",
    "    \"\"\"\n",
    "  \n",
    "    trimmean_data_1= pd.DataFrame(samples_metrics_1[0]['trimmean'])\n",
    "    trimmean_data_1.columns = range(ref_reg.start, ref_reg.end)\n",
    "    print(f\"The number of reads in sample 1: {trimmean_data_1.shape[0]}, the number of positions: {trimmean_data_1.shape[1]}\")\n",
    "    trimmean_data_2= pd.DataFrame(samples_metrics_2[0]['trimmean'])\n",
    "    trimmean_data_2.columns = range(ref_reg.start, ref_reg.end)\n",
    "    print(f\"The number of reads in sample 2: {trimmean_data_2.shape[0]}, the number of positions: {trimmean_data_2.shape[1]}\")\n",
    "\n",
    "    results = []\n",
    "    for col in trimmean_data_1.columns:\n",
    "        ### Per position drop the reads for which no signal value exists\n",
    "        data_1=  trimmean_data_1[col].dropna()\n",
    "        data_2 =  trimmean_data_2[col].dropna()\n",
    "        ### When both samples have at least the minimum amount of reads calculate the Mann-Whitney-U test\n",
    "        if (len(data_1) >= min_reads) and (len(data_2) >= min_reads):\n",
    "            result_mwu = pg.mwu(data_1, data_2, alternative='two-sided')\n",
    "            stat = result_mwu['U-val'].values[0]\n",
    "            pval = result_mwu['p-val'].values[0]\n",
    "            RBC = result_mwu['RBC'].values[0]\n",
    "\n",
    "            results.append({'position': col, \n",
    "                            'num_sample_1': len(data_1),\n",
    "                            'num_sample_2': len(data_2),\n",
    "                            'median_trimmean_1': np.median(data_1),\n",
    "                            'median_trimmean_2': np.median(data_2),\n",
    "                            'sd_trimmean_1': np.std(data_1, ddof= 1),\n",
    "                            'sd_trimmean_2': np.std(data_2, ddof= 1),\n",
    "                            'p_value': pval,\n",
    "                            'RBC': RBC})\n",
    "\n",
    "    results_df = pd.DataFrame(results)\n",
    "\n",
    "    ### Adjust the p-values for multiple hypotheses testing\n",
    "    pvals = results_df['p_value']\n",
    "    _, pvals_corrected, _, _ = multipletests(pvals, method='fdr_bh', alpha = 0.01)\n",
    "\n",
    "    results_df['adjusted_p_value'] = pvals_corrected\n",
    "    return results_df"
   ]
  },
  {
   "cell_type": "code",
   "execution_count": null,
   "id": "611d6020-438d-4b65-bc30-8298c6c93547",
   "metadata": {
    "jupyter": {
     "source_hidden": true
    }
   },
   "outputs": [],
   "source": [
    "def compute_MWU_results(\n",
    "    ref_reg,\n",
    "    samples_metrics_1,\n",
    "    samples_metrics_2,\n",
    "    threshold = 0.01,\n",
    "    min_reads = 30\n",
    "):\n",
    "    \"\"\"\n",
    "    Filter the positions for which Mann_Whitney_U testing results significant, using make_MWU_df()\n",
    "\n",
    "    Parameters:\n",
    "        ref_reg: the tRNA reference region of interest\n",
    "        samples_metrics_1/2: metric dicts for each sample, including the trimmmed means\n",
    "        treshold: the alpha-level for the p-value\n",
    "        min_reads: the minimum amount of reads used in analysis (only testing for significance for positions with enough reads)\n",
    "        max_reads: the maximum maximum amount of reads used in analysis\n",
    "    \"\"\"\n",
    "\n",
    "    df_Mann_Whitney_U = make_MWU_df(ref_reg, samples_metrics_1, samples_metrics_2, min_reads)\n",
    "    ### Convert the generated output into a pandas dataframe\n",
    "    df_Mann_Whitney_U_pd = pd.DataFrame(df_Mann_Whitney_U)\n",
    "\n",
    "    ### Filter for only significant positions\n",
    "    filtered_df = df_Mann_Whitney_U_pd[(df_Mann_Whitney_U_pd['adjusted_p_value'] < threshold)]\n",
    "    print(filtered_df.shape)\n",
    "\n",
    "    significant_positions = list(filtered_df['position'])\n",
    "\n",
    "    print(f\"Number of significantly different positions for this entry: {len(significant_positions)}\")\n",
    "    \n",
    "    if len(significant_positions) > 0:\n",
    "        return filtered_df, significant_positions\n",
    "    else:\n",
    "        return None, None"
   ]
  },
  {
   "cell_type": "markdown",
   "id": "de459677-395b-4f3e-b387-dc234740ac16",
   "metadata": {},
   "source": [
    "### Plotting functions"
   ]
  },
  {
   "cell_type": "markdown",
   "id": "89501ab2-2338-46e7-9142-677c4736d703",
   "metadata": {},
   "source": [
    "#### Line plot"
   ]
  },
  {
   "cell_type": "code",
   "execution_count": null,
   "id": "d34f2689-adb7-4912-8e07-881157cd5b5c",
   "metadata": {
    "jupyter": {
     "source_hidden": true
    }
   },
   "outputs": [],
   "source": [
    "def plot_trimmean_signals_giving_metrics_one_sample_with_seq(\n",
    "    ref_reg,\n",
    "    samples_metrics,\n",
    "    xlim_start=0,\n",
    "    xlim_end=20,\n",
    "    signal_type='norm',\n",
    "    max_reads=None,\n",
    "    alpha_lines=1/200,\n",
    "    color = \"#009E73\",\n",
    "    highlight_positions=None,\n",
    "    sequence=None \n",
    "):\n",
    "    \"\"\"\n",
    "    Plot trimmean signals for 1 sample per position with sequence shown on x-axis.\n",
    "\n",
    "    Parameters:\n",
    "        ref_reg: object with .start, .end, .ctg\n",
    "        samples_metrics: metric dicts for the sample\n",
    "        xlim_start/xlim_end: x-axis boundaries\n",
    "        signal_type: 'norm' or 'pa'\n",
    "        max_reads: maximum numbers of reads to plot\n",
    "        alpha_lines: transparency\n",
    "        color: color of the lines\n",
    "        highlight_positions: list of positions to highlight\n",
    "        sequence: (optional) string of nucleotides matching region length\n",
    "    \"\"\"\n",
    "    ## Getting the trimmed mean signal levels of the mapped reads\n",
    "    trimmean_data = pd.DataFrame(samples_metrics[0]['trimmean'])\n",
    "    trimmean_data.columns = range(ref_reg.start, ref_reg.end)\n",
    "    print(f\"Shape of metric array: {samples_metrics[0]['trimmean'].shape}\")\n",
    "\n",
    "    # Limit x-axis range\n",
    "    plot_positions = [pos for pos in trimmean_data.columns if xlim_start <= pos - ref_reg.start < xlim_end]\n",
    "\n",
    "\n",
    "    plt.figure(figsize=(10, 6))\n",
    "    \n",
    "    # If too many reads, draw a random sample\n",
    "    if max_reads is not None and len(trimmean_data) > max_reads:\n",
    "        data_to_plot = trimmean_data.sample(n=max_reads, random_state=42)\n",
    "    else:\n",
    "        data_to_plot = trimmean_data\n",
    "\n",
    "    # plot each read as a line\n",
    "    for i in range(len(data_to_plot)):\n",
    "        plt.plot(plot_positions, data_to_plot[plot_positions].iloc[i], color=color, alpha=alpha_lines)\n",
    "\n",
    "    print(f\"Plotting {len(data_to_plot)} reads\")\n",
    "\n",
    "    # Show both sequence and position if sequence is provided\n",
    "    if sequence is not None:\n",
    "        print(f\"The sequence being plotted is {len(sequence[xlim_start:xlim_end])} nt\")\n",
    "        \n",
    "        ax = plt.gca()  # Get current axis\n",
    "\n",
    "        # x-axis tick positions\n",
    "        x_positions = list(range(xlim_start, xlim_end))\n",
    "\n",
    "        if sequence is not None:\n",
    "            sequence_slice = sequence[xlim_start:xlim_end]\n",
    "            if len(sequence_slice) != (xlim_end - xlim_start):\n",
    "                raise ValueError(\"Length of sequence slice does not match expected range.\")\n",
    "\n",
    "            # Combine sequence and index labels with newline\n",
    "            combined_labels = [f\"{base}\\n{idx}\" for idx, base in zip(x_positions, sequence_slice)]\n",
    "            ax.set_xticks(x_positions)\n",
    "            ax.set_xticklabels(combined_labels)\n",
    "            ax.set_xlabel(\"Base (top) and index (bottom)\")\n",
    "        else:\n",
    "            ax.set_xticks(x_positions)\n",
    "            ax.set_xticklabels(x_positions)\n",
    "            ax.set_xlabel(\"Sequence index\")\n",
    "\n",
    "    else:\n",
    "        plt.xticks(plot_positions)\n",
    "\n",
    "    # Adjust the y-axis to the signal type\n",
    "    if signal_type == 'norm':\n",
    "        plt.ylim(-4, 4)\n",
    "        plt.ylabel('Trimmean (norm)')\n",
    "    elif signal_type == 'pa':\n",
    "        plt.ylim(25, 140)\n",
    "        plt.ylabel('Trimmean (pA)')\n",
    "\n",
    "    plt.title(ref_reg.ctg)\n",
    "    plt.grid(color='gray', linestyle='-', linewidth=0.3, alpha=1/30)\n",
    "\n",
    "    if highlight_positions is not None:\n",
    "        for position in highlight_positions:\n",
    "            plt.axvspan(position - 0.5, position + 0.5, color='yellow', alpha=0.3)\n",
    "\n",
    "    plt.tight_layout()\n",
    "    plt.show()\n"
   ]
  },
  {
   "cell_type": "code",
   "execution_count": null,
   "id": "4d275028-2ec1-42db-b2d3-0835e91b704a",
   "metadata": {
    "jupyter": {
     "source_hidden": true
    }
   },
   "outputs": [],
   "source": [
    "def plot_trimmean_signals_two_samples_with_seq(\n",
    "    ref_reg,\n",
    "    samples_metrics_1,\n",
    "    samples_metrics_2,\n",
    "    xlim_start=0,\n",
    "    xlim_end=20,\n",
    "    signal_type='norm',\n",
    "    max_reads=None,\n",
    "    alpha_lines=1/200,\n",
    "    sample_labels=None,\n",
    "    highlight_positions= None,\n",
    "    sequence= None\n",
    "):\n",
    "    \"\"\"\n",
    "    Plot trimmean signals for 2 samples on the same plot.\n",
    "    \n",
    "    Parameters:\n",
    "        ref_reg: object with .start, .end, .ctg\n",
    "        samples_metrics_1/2/3: metric dicts for each sample\n",
    "        xlim_start/xlim_end: x-axis boundaries, define region\n",
    "        signal_type: 'norm' or 'pa'\n",
    "        max_reads: maximum numbers of reads to plot\n",
    "        alpha_lines: transparency\n",
    "        sample_labels: list of 3 labels\n",
    "        highlight_positions: list of positions to highlight\n",
    "        sequence: (optional) string of nucleotides matching region length\n",
    "    \"\"\"\n",
    "    trimmean_data_1= pd.DataFrame(samples_metrics_1[0]['trimmean'])\n",
    "    trimmean_data_1.columns = range(ref_reg.start, ref_reg.end)\n",
    "\n",
    "    trimmean_data_2= pd.DataFrame(samples_metrics_2[0]['trimmean'])\n",
    "    trimmean_data_2.columns = range(ref_reg.start, ref_reg.end)\n",
    "    \n",
    "    all_metrics = [trimmean_data_1,trimmean_data_2]\n",
    "    colors = ['#009E73', \"#7851A9\"]\n",
    "    if sample_labels is None:\n",
    "        sample_labels = ['Sample 1', 'Sample 2']\n",
    "\n",
    "    plt.figure(figsize=(10, 6))\n",
    "\n",
    "    for idx, sample in enumerate(all_metrics):\n",
    "        trimmean_data = all_metrics[idx]\n",
    "        print(f\"Shape of metric array {sample_labels[idx]}: {trimmean_data.shape}\")\n",
    "\n",
    "        # Downsample if needed\n",
    "        if max_reads is not None and len(trimmean_data) > max_reads:\n",
    "            data_to_plot = trimmean_data.sample(n=max_reads, random_state=42)\n",
    "        else:\n",
    "            data_to_plot = trimmean_data\n",
    "\n",
    "        for i in range(len(data_to_plot)):\n",
    "            plt.plot(\n",
    "                data_to_plot.columns,\n",
    "                data_to_plot.iloc[i],\n",
    "                color=colors[idx],\n",
    "                alpha=alpha_lines,\n",
    "                label=sample_labels[idx] if i == 0 else \"\"\n",
    "            )\n",
    "\n",
    "        print(f\"Plotting {len(data_to_plot)} reads for {sample_labels[idx]}\")\n",
    "\n",
    "    # Show both sequence and position if sequence is provided\n",
    "    if sequence is not None:\n",
    "        print(f\"The sequence being plotted is {len(sequence[xlim_start:xlim_end])} nt\")\n",
    "        \n",
    "        ax = plt.gca()  # Get current axis\n",
    "\n",
    "        # x-axis tick positions\n",
    "        x_positions = list(range(xlim_start, xlim_end))\n",
    "\n",
    "        if sequence is not None:\n",
    "            sequence_slice = sequence[xlim_start:xlim_end]\n",
    "            if len(sequence_slice) != (xlim_end - xlim_start):\n",
    "                raise ValueError(\"Length of sequence slice does not match expected range.\")\n",
    "\n",
    "            # Combine sequence and index labels with newline\n",
    "            combined_labels = [f\"{base}\\n{idx}\" for idx, base in zip(x_positions, sequence_slice)]\n",
    "            ax.set_xticks(x_positions)\n",
    "            ax.set_xticklabels(combined_labels)\n",
    "            ax.set_xlabel(\"Base (top) and index (bottom)\")\n",
    "        else:\n",
    "            ax.set_xticks(x_positions)\n",
    "            ax.set_xticklabels(x_positions)\n",
    "            ax.set_xlabel(\"Sequence index\")\n",
    "\n",
    "    else:\n",
    "        plt.xticks(plot_positions)\n",
    "        \n",
    "    plt.xlim(xlim_start, xlim_end)\n",
    "    # Adjust the y-axis to the signal type\n",
    "    if signal_type == 'norm':\n",
    "        plt.ylim(-4, 4)\n",
    "        plt.ylabel('Trimmean (norm)')\n",
    "    elif signal_type == 'pa':\n",
    "        plt.ylim(25, 140)\n",
    "        plt.ylabel('Trimmean (pA)')\n",
    "\n",
    "    plt.title(ref_reg.ctg)\n",
    "    plt.grid(color='gray', linestyle='-', linewidth=0.3, alpha=1/30)\n",
    "    plt.legend()\n",
    "    plt.tight_layout()\n",
    "\n",
    "    if highlight_positions is not None:\n",
    "        for position in highlight_positions:\n",
    "            plt.axvspan(position-0.5, position+0.5, color='yellow', alpha=0.3)\n",
    "\n",
    "    plt.show()"
   ]
  },
  {
   "cell_type": "markdown",
   "id": "8390dc39-50a9-44ca-bfaa-0649b96d0f17",
   "metadata": {},
   "source": [
    "#### Scatterplot"
   ]
  },
  {
   "cell_type": "code",
   "execution_count": null,
   "id": "7f4780ea-4a52-49b0-abc2-26076c8f8447",
   "metadata": {
    "jupyter": {
     "source_hidden": true
    }
   },
   "outputs": [],
   "source": [
    "def plot_mean_and_sd_of_trimmean_two_samples(\n",
    "    ref_reg,\n",
    "    samples_metrics_1,\n",
    "    samples_metrics_2,\n",
    "    xlim_start,\n",
    "    xlim_end,\n",
    "    sample_labels,\n",
    "    signal_type=\"norm\",\n",
    "    colors=None\n",
    "):\n",
    "    \"\"\"\n",
    "    Plot dotplots of the mean and sd of the trimmean values per position for 2 samples using matplotlib.\n",
    "    \n",
    "    Parameters:\n",
    "        ref_reg: object with .start, .end, .ctg\n",
    "        samples_metrics_1/2: metric dicts for each sample\n",
    "        xlim_start/xlim_end: x-axis boundaries, define region\n",
    "        sample_labels: list of 2 labels\n",
    "        signal_type: 'norm' or 'pa'\n",
    "        colors: colors to use for plotting\n",
    "    \"\"\"\n",
    "    all_metrics = [samples_metrics_1, samples_metrics_2]\n",
    "    all_means = []\n",
    "    all_sds = []\n",
    "\n",
    "    for i, sample in enumerate(all_metrics):\n",
    "        # For each sample, get the the trimmed mean signal levels\n",
    "        metrics = sample[0]  # Unpack dict\n",
    "        trimmean_data = pd.DataFrame(metrics['trimmean'])\n",
    "\n",
    "        # Calculate the mean per position\n",
    "        trimmean_mean = trimmean_data.mean()\n",
    "        df_mean = pd.DataFrame({\n",
    "            'position': range(len(trimmean_mean)),\n",
    "            'value': trimmean_mean,\n",
    "            'label': sample_labels[i]\n",
    "        })\n",
    "        all_means.append(df_mean)\n",
    "\n",
    "        # Calculate the std per position\n",
    "        trimmean_sd = trimmean_data.std()\n",
    "        df_sd = pd.DataFrame({\n",
    "            'position': range(len(trimmean_sd)),\n",
    "            'value': trimmean_sd,\n",
    "            'label': sample_labels[i]\n",
    "        })\n",
    "        all_sds.append(df_sd)\n",
    "\n",
    "    # Combine the samples\n",
    "    df_all_means = pd.concat(all_means, ignore_index=True)\n",
    "    df_all_sds = pd.concat(all_sds, ignore_index=True)\n",
    "\n",
    "    # Set y-limits\n",
    "    if signal_type == 'norm':\n",
    "        mean_ylim = (-3, 3)\n",
    "        sd_ylim = (0, 3)\n",
    "        mean_yticks = np.arange(-3, 3.1, 0.5)\n",
    "        sd_yticks = np.arange(0, 3.1, 0.2)\n",
    "    elif signal_type == 'pa':\n",
    "        mean_ylim = (30, 140)\n",
    "        sd_ylim = (0, 20)\n",
    "        mean_yticks = np.arange(30, 141, 10)\n",
    "        sd_yticks = np.arange(0, 21, 2)\n",
    "    else:\n",
    "        raise ValueError(\"Invalid signal_type. Choose 'norm' or 'pa'.\")\n",
    "\n",
    "    if colors is None:\n",
    "        colors = ['#009E73', \"#7851A9\"]\n",
    "\n",
    "    x_ticks = list(range(xlim_start, xlim_end + 1, 5))\n",
    "\n",
    "    # Filter by xlim\n",
    "    df_plot_means = df_all_means.query(\"position >= @xlim_start and position <= @xlim_end\")\n",
    "    df_plot_sds = df_all_sds.query(\"position >= @xlim_start and position <= @xlim_end\")\n",
    "\n",
    "    # Plotting\n",
    "    fig, axs = plt.subplots(2, 1, figsize=(12, 8), sharex=True)\n",
    "\n",
    "    # Plot Mean\n",
    "    for i, label in enumerate(sample_labels):\n",
    "        subset = df_plot_means[df_plot_means['label'] == label]\n",
    "        axs[0].scatter(subset['position'], subset['value'], label=label, color=colors[i], s=15)\n",
    "\n",
    "    axs[0].set_title(f\"{ref_reg.ctg} - Mean Trimmean\")\n",
    "    axs[0].set_ylabel(\"Mean of trimmed mean\")\n",
    "    axs[0].set_ylim(mean_ylim)\n",
    "    axs[0].set_yticks(mean_yticks)\n",
    "    axs[0].legend()\n",
    "    axs[0].grid(True, alpha = 0.5)\n",
    "\n",
    "    # Plot SD\n",
    "    for i, label in enumerate(sample_labels):\n",
    "        subset = df_plot_sds[df_plot_sds['label'] == label]\n",
    "        axs[1].scatter(subset['position'], subset['value'], label=label, color=colors[i], s=15)\n",
    "\n",
    "    \n",
    "    #axs[1].axhline(y=1, color='red', linestyle='--', linewidth=1, label='SD=1 threshold')\n",
    "\n",
    "    axs[1].set_title(f\"{ref_reg.ctg} - SD Trimmean\")\n",
    "    axs[1].set_xlabel(\"Reference Position\")\n",
    "    axs[1].set_ylabel(\"SD of trimmed mean\")\n",
    "    axs[1].set_ylim(sd_ylim)\n",
    "    axs[1].set_yticks(sd_yticks)\n",
    "    axs[1].set_xticks(x_ticks)\n",
    "    axs[1].legend()\n",
    "    axs[1].grid(True, alpha = 0.5)\n",
    "\n",
    "    plt.tight_layout()\n",
    "    plt.show()\n",
    "\n",
    "    # Print SD summary\n",
    "    print(\"Mean SD values per sample:\")\n",
    "    for i, df in enumerate(all_sds):\n",
    "        print(f\"{sample_labels[i]}: {np.mean(df['value']):.4f}\")\n"
   ]
  },
  {
   "cell_type": "markdown",
   "id": "0fb36827-b3cd-4bfb-b6ca-2ce5005047b2",
   "metadata": {},
   "source": [
    "#### Violin plot"
   ]
  },
  {
   "cell_type": "code",
   "execution_count": null,
   "id": "9717a92d-3c02-4ccd-b0fb-01e06247aaa1",
   "metadata": {
    "jupyter": {
     "source_hidden": true
    }
   },
   "outputs": [],
   "source": [
    "def plot_trimmean_violin_two_samples_with_seq(\n",
    "    ref_reg,\n",
    "    samples_metrics_1,\n",
    "    samples_metrics_2,\n",
    "    xlim_start=0,\n",
    "    xlim_end=20,\n",
    "    signal_type='norm',\n",
    "    sample_labels=None,\n",
    "    highlight_positions_one_ionic=None,\n",
    "    highlight_positions_two_ionic = None,\n",
    "    highlight_positions_three = None,\n",
    "    highlight_positions_basecalled = None,\n",
    "    highlight_positions_basecalled_one = None,\n",
    "    highlight_positions_excluded = None,\n",
    "    sequence=None,\n",
    "    legend = 'yes', title = None\n",
    "):\n",
    "    \"\"\"\n",
    "    Plot split violin plots of event-level means per position for two samples.\n",
    "\n",
    "    Parameters:\n",
    "        samples_metrics_1, samples_metrics_2: lists of dicts with 'trimmean' DataFrames.\n",
    "        xlim_start/xlim_end: x-axis boundaries, define region\n",
    "        signal_type: str, 'norm' or 'pa'\n",
    "        sample_labels: list[str], list of 2 labels\n",
    "        highlight_positions_one_ionic: list[int], positions predicted by only this ionic current analysis\n",
    "        highlight_positions_two_ionic: list[int], positions predicted by both ionic current analyses\n",
    "        highlight_positions_three: list[int], positions predicted by both ionic current analyses and basecalled modification analysis\n",
    "        highlight_positions_basecalled: list[int], positions predicted by only basecalled modification analysis\n",
    "        highlight_positions_basecalled_one: list[int], positions predicted by this ionic current analysis and basecalled modification analysis\n",
    "        highlight_positions_excluded: list[int], positions excluded from the analysis\n",
    "        sequence: str or None,  optional sequence string for annotated x-axis.\n",
    "        legend: str 'yes' or 'no', binary to indicate whether to plot the legend\n",
    "        title: str or None, title of the figure\n",
    "    \"\"\"\n",
    "    df1 = pd.DataFrame(samples_metrics_1[0]['trimmean'])\n",
    "    df2 = pd.DataFrame(samples_metrics_2[0]['trimmean'])\n",
    "\n",
    "    dfs = [df1, df2]\n",
    "    dfs_long = []\n",
    "    for df, label in zip(dfs, sample_labels):\n",
    "\n",
    "        # Keep only positions within specified range\n",
    "        cols_in_range = [pos for pos in df.columns if isinstance(pos, (int, float)) and xlim_start <= pos <= xlim_end]\n",
    "        df = df.loc[:, cols_in_range]\n",
    "\n",
    "        # Transform to long format\n",
    "        df_long = df.melt(var_name=\"Position\", value_name=\"Trimmean\")\n",
    "        df_long[\"Sample\"] = label\n",
    "        dfs_long.append(df_long)\n",
    "\n",
    "    # Combine the samples\n",
    "    df_all = pd.concat(dfs_long, ignore_index=True)\n",
    "    \n",
    "    # Ensure Position is a categorical variable with proper ordering\n",
    "    full_positions = list(range(xlim_start, xlim_end + 1))\n",
    "    df_all[\"Position\"] = pd.Categorical(df_all[\"Position\"], categories=full_positions, ordered=True)\n",
    "\n",
    "    # Configure plot\n",
    "    custom_palette = {\n",
    "        sample_labels[0]: '#009E73',  # Biological\n",
    "        sample_labels[1]: \"#7851A9\"   # IVT\n",
    "    }\n",
    "    fig_width = 10 if legend == 'yes' else 6\n",
    "    plt.figure(figsize=(fig_width, 4))\n",
    "\n",
    "    # Highlight positions\n",
    "    def add_highlight(highlight_list, color, alpha):\n",
    "        if highlight_list is not None:\n",
    "            for pos in highlight_list:\n",
    "                if pos in full_positions:\n",
    "                    idx = full_positions.index(pos)\n",
    "                    plt.axvspan(idx - 0.5, idx + 0.5, color=color, alpha=alpha)\n",
    "\n",
    "    add_highlight(highlight_positions_one_ionic, 'yellow', 0.1)\n",
    "    add_highlight(highlight_positions_two_ionic, 'orange', 0.2)\n",
    "    add_highlight(highlight_positions_three, 'red', 0.2)\n",
    "    add_highlight(highlight_positions_basecalled, 'lightskyblue', 0.3)\n",
    "    add_highlight(highlight_positions_basecalled_one, 'limegreen', 0.2)\n",
    "    add_highlight(highlight_positions_excluded, 'grey', 0.2)\n",
    "\n",
    "    # Plot violins\n",
    "    ax = sns.violinplot(\n",
    "        data=df_all,\n",
    "        x=\"Position\",\n",
    "        y=\"Trimmean\",\n",
    "        hue=\"Sample\",\n",
    "        palette=custom_palette,\n",
    "        split=True,\n",
    "        inner=\"quartile\",\n",
    "        linewidth=0.8,\n",
    "        scale=\"width\",\n",
    "        bw=0.2\n",
    "    )\n",
    "    plt.xlim(-0.5, len(full_positions) - 0.5)\n",
    "\n",
    "    # X-axis\n",
    "    if sequence is not None:\n",
    "        sequence_slice = sequence[xlim_start:xlim_end+1]\n",
    "        combined_labels = [f\"{base}\\n{pos}\" for base, pos in zip(sequence_slice, full_positions)]\n",
    "        ax.set_xticks(range(len(full_positions)))\n",
    "        ax.set_xticklabels(combined_labels, fontsize=14)\n",
    "        ax.set_xlabel(\"Base (top) and position (bottom)\", fontsize=14)\n",
    "    else:\n",
    "        ax.set_xlabel(\"Position\", fontsize=14)\n",
    "\n",
    "    # Y-axis\n",
    "    plt.ylim(-4, 4)\n",
    "    plt.ylabel(f\"Mean signal level ({signal_type})\", fontsize=14)\n",
    "    ax.tick_params(axis='y', labelsize=14)\n",
    "    ytick_vals = np.arange(-4, 4.2, 0.5)\n",
    "    ytick_labels = [str(val) if val % 1 == 0 else \"\" for val in ytick_vals]\n",
    "    plt.yticks(ytick_vals, ytick_labels)\n",
    "\n",
    "    # Title and grid\n",
    "    plt.title(title if title is not None else ref_reg.ctg)\n",
    "    plt.grid(color='gray', linestyle='-', linewidth=0.3, alpha=1/30)\n",
    "    plt.grid(axis='y', linestyle='-', linewidth=0.3, alpha=0.7)\n",
    "\n",
    "    # Plot legend\n",
    "    sample_handles = [\n",
    "        mpatches.Patch(color='#009E73', label='Biological'),\n",
    "        mpatches.Patch(color='#7851A9', label='IVT')\n",
    "    ]\n",
    "    legend_handles = []\n",
    "    if highlight_positions_one_ionic is not None:\n",
    "        legend_handles.append(mpatches.Patch(color='yellow', alpha=0.1, label='Predicted by one ionic current analysis'))\n",
    "    if highlight_positions_two_ionic is not None:\n",
    "        legend_handles.append(mpatches.Patch(color='orange', alpha=0.2, label='Predicted by both ionic current analyses'))\n",
    "    if highlight_positions_basecalled is not None:\n",
    "        legend_handles.append(mpatches.Patch(color='lightskyblue', alpha=0.3, label='Predicted by modification basecalling'))\n",
    "    if highlight_positions_three is not None:\n",
    "        legend_handles.append(mpatches.Patch(color='red', alpha=0.2, label='Predicted by all three analyses'))\n",
    "    if highlight_positions_basecalled_one is not None:\n",
    "        legend_handles.append(mpatches.Patch(color='limegreen', alpha=0.2, label='Predicted by ionic + basecalling'))\n",
    "    if highlight_positions_excluded is not None:\n",
    "        legend_handles.append(mpatches.Patch(color='grey', alpha=0.2, label='Excluded from analyses'))\n",
    "\n",
    "    if legend == 'yes':\n",
    "        all_handles = sample_handles + legend_handles\n",
    "        ax.legend(\n",
    "            handles=all_handles,\n",
    "            labels=[h.get_label() for h in all_handles],\n",
    "            fontsize=12,\n",
    "            bbox_to_anchor=(1.02, 1),\n",
    "            ncol=2,\n",
    "            loc='upper left',\n",
    "            borderaxespad=0\n",
    "        )\n",
    "    elif legend == 'no':\n",
    "        ax.legend_.remove()\n",
    "\n",
    "    # Show\n",
    "    plt.tight_layout()\n",
    "    plt.show()\n"
   ]
  },
  {
   "cell_type": "markdown",
   "id": "92f77dc3-790a-470e-888c-edfa11baccda",
   "metadata": {},
   "source": [
    "## 3. Data loading"
   ]
  },
  {
   "cell_type": "markdown",
   "id": "191cf2bb-0103-4c19-9051-6c882b4965ee",
   "metadata": {},
   "source": [
    "For both samples, the following is required:\n",
    "- Pod5 file including the raw (unbasecalled) reads generated by RNA004-ONT sequecning\n",
    "- Bam file including the basecalled, map reads. When using BWA-MEM sequence alignment, the bam file needs to be prepare using the bam_preparation python script in order to include both sequence alignments tags and move table tags."
   ]
  },
  {
   "cell_type": "code",
   "execution_count": null,
   "id": "054fbce7-fb03-4db9-b97b-62a5660dd162",
   "metadata": {},
   "outputs": [],
   "source": [
    "start_time = datetime.now()\n",
    "print(f\"Started at: {start_time}\")\n",
    "\n",
    "\n",
    "data_root = Path(\"/path/to/data/\")\n",
    "\n",
    "print(\"IVT sample: \")\n",
    "pod5_dr_IVT = pod5.DatasetReader(data_root / \"IVT_reads.pod5\") \n",
    "bam_fh_IVT = io.ReadIndexedBam(data_root/\"IVT_selected_reads_primary_tagged.bam\")\n",
    "\n",
    "print(\"Biological sample\")\n",
    "pod5_dr_bio = pod5.DatasetReader(data_root/\"bio_reads.pod5\")\n",
    "bam_fh_bio = io.ReadIndexedBam(data_root/\"bio_selected_reads_primary_tagged.bam\")\n",
    "\n",
    "\n",
    "end_time = datetime.now()\n",
    "print(f\"Finished at: {end_time}\")\n",
    "print(f\"Total time taken: {end_time - start_time}\")"
   ]
  },
  {
   "cell_type": "markdown",
   "id": "026934b2-7a5b-416d-bb14-89b19086b9d4",
   "metadata": {},
   "source": [
    "### Bootstrapping the IVT-sample"
   ]
  },
  {
   "cell_type": "code",
   "execution_count": null,
   "id": "9066329a-d583-47f3-a1d3-bf2332d3709a",
   "metadata": {},
   "outputs": [],
   "source": [
    "bam_path = data_root/\"IVT_selected_reads_primary_tagged.bam\"\n",
    "subsamples = take_samples_read_ids(\n",
    "    bam_path,\n",
    "    sample_size=360,\n",
    "    number_of_samples=50\n",
    ")\n",
    "# Save the created subsamples as pickle for future usage and for usage in f5c's analysis\n",
    "with open(\"subsamples_IVT.pkl\", \"wb\") as f:\n",
    "    pickle.dump(subsamples, f)\n"
   ]
  },
  {
   "cell_type": "markdown",
   "id": "1a958645-9baf-4f1b-897d-8a9056ab23e8",
   "metadata": {},
   "source": [
    "### Loading the generated subsamples"
   ]
  },
  {
   "cell_type": "code",
   "execution_count": null,
   "id": "d3b9c19a-e123-4cfc-93cd-393ef0f1ad56",
   "metadata": {},
   "outputs": [],
   "source": [
    "with open(\"path/to/data/subsamples_IVT.pkl\", \"rb\") as f:\n",
    "    subsamples = pickle.load(f)"
   ]
  },
  {
   "cell_type": "markdown",
   "id": "fd0fed2e-70c9-498d-baea-d18b13b5ced0",
   "metadata": {},
   "source": [
    "### Checking the input data"
   ]
  },
  {
   "cell_type": "markdown",
   "id": "4771e25d-e6ba-4299-958c-eb3082692de3",
   "metadata": {},
   "source": [
    "Define the tRNA-region of interest"
   ]
  },
  {
   "cell_type": "code",
   "execution_count": null,
   "id": "f6299256-0d68-40d8-90ea-9359e9ad8340",
   "metadata": {
    "scrolled": true
   },
   "outputs": [],
   "source": [
    "ref_reg = io.RefRegion(ctg=\"[contig_name]\", strand=\"+\", start=0, end=72)"
   ]
  },
  {
   "cell_type": "markdown",
   "id": "13b586f2-ad75-4f26-a5ce-1dd42b5e88c1",
   "metadata": {},
   "source": [
    "Check whether all the reads stored in the bam file have corresponding entry within the pod5 file. This is required for downstream analysis."
   ]
  },
  {
   "cell_type": "code",
   "execution_count": null,
   "id": "7e88f1a1-41d9-4209-863a-d9c6896700ae",
   "metadata": {},
   "outputs": [],
   "source": [
    "bam_reads_bio = io.get_reg_bam_reads(ref_reg, bam_fh_bio)\n",
    "print(f\"The number of bam reads for biological sample: {len(bam_reads_bio)}\")\n",
    "io_reads_bio = io.get_io_reads(bam_reads_bio, pod5_dr_bio)\n",
    "print(f\"The number of io reads for biological sample: {len(io_reads_bio)}\")\n",
    "\n",
    "\n",
    "bam_reads_IVT = io.get_reg_bam_reads(ref_reg, bam_fh_IVT)\n",
    "print(f\"The number of bam reads for IVT: {len(bam_reads_IVT)}\")\n",
    "io_reads_IVT = io.get_io_reads(bam_reads_IVT, pod5_dr_IVT)\n",
    "print(f\"The number of io reads for IVT: {len(io_reads_IVT)}\")"
   ]
  },
  {
   "cell_type": "markdown",
   "id": "8a3e0201-616f-4af2-ad97-c8378de9731e",
   "metadata": {},
   "source": [
    "## 4. Signal Alignment"
   ]
  },
  {
   "cell_type": "markdown",
   "id": "66ac2fc3-d6b0-4fbd-b0db-32c7918b03d6",
   "metadata": {},
   "source": [
    "### Define the signal map refiner\n",
    "First the kmer_model table need to be loaded, which is obtained from the kmer_models repository of ONT (https://github.com/nanoporetech/kmer_models/tree/master)"
   ]
  },
  {
   "cell_type": "code",
   "execution_count": null,
   "id": "63be298d-dc11-457c-8d03-d4251b2fc40d",
   "metadata": {},
   "outputs": [],
   "source": [
    "level_table = data_root/\"9mer_levels_v1.txt\""
   ]
  },
  {
   "cell_type": "markdown",
   "id": "9a9fa819-fdc0-4907-a197-ce087fc1032a",
   "metadata": {},
   "source": [
    "Thereafter, the signal map refiner is defined. For this adjustments within the function rescale() in refine_signal_map.py (start at line 486) are made to enable more inclusive precise rescaling (scale_iters =1):\n",
    "- dwell_filter_pctls is set to (2, 98)\n",
    "- edge_filter_bases is set to 5\n",
    "- min_levels is set to 0"
   ]
  },
  {
   "cell_type": "code",
   "execution_count": null,
   "id": "6738429c-1e6a-4b92-89cf-af0daef7347b",
   "metadata": {},
   "outputs": [],
   "source": [
    "sig_map_refiner = refine_signal_map.SigMapRefiner(\n",
    "    kmer_model_filename=level_table,\n",
    "    do_rough_rescale=True,\n",
    "    scale_iters=1,\n",
    "    do_fix_guage=True,\n",
    "    sd_params=(50, 15, 1.5),\n",
    "    half_bandwidth = 10\n",
    ")\n",
    "print(sig_map_refiner)\n",
    "print(f\"The parameters of the dwell_penalty algorithm are set to: {sig_map_refiner.sd_params}\")\n",
    "\n",
    "# Assigning the 6th base within each k-mer as dominant in order to convert signals-per-kmer to signals-per-base\n",
    "sig_map_refiner.center_idx = 5\n",
    "print(f\"The index of the central base within k-mer is set to: {sig_map_refiner.center_idx}\")"
   ]
  },
  {
   "cell_type": "markdown",
   "id": "de3f53af-c3f7-44bd-a121-ab019b70f0f9",
   "metadata": {},
   "source": [
    "### Calculating the trimmed mean signal levels"
   ]
  },
  {
   "cell_type": "markdown",
   "id": "268c5dd5-e492-45f9-98d5-b73fbce5a498",
   "metadata": {},
   "source": [
    "Subsequently, the set signal alignment refiner is applied and the dwell, trimmed mean and trimmed standard deviation of the signals per reference base position is calculated for all the mapped reads per sample."
   ]
  },
  {
   "cell_type": "markdown",
   "id": "81fc6d64-4715-4bf5-862b-fc1567235357",
   "metadata": {},
   "source": [
    "#### For biological sample"
   ]
  },
  {
   "cell_type": "code",
   "execution_count": null,
   "id": "436c6242-c778-4bb1-8d71-26924ce1e20f",
   "metadata": {},
   "outputs": [],
   "source": [
    "start_time = datetime.now()\n",
    "print(f\"Started at: {start_time}\")\n",
    "samples_metrics_bio, all_bam_reads = io.get_ref_reg_samples_metrics(\n",
    "    ref_reg,\n",
    "    [(pod5_dr_bio, bam_fh_bio)],\n",
    "    metric=\"dwell_trimmean_trimsd\",\n",
    "    sig_map_refiner=sig_map_refiner, signal_type = 'norm'\n",
    ")\n",
    "print(f\"Metrics computed: {', '.join(samples_metrics_bio[0].keys())}\")\n",
    "print(f\"Shape of metric array: {samples_metrics_bio[0]['trimmean'].shape}\")\n",
    "# The rows are the reads, the columns are the reference positions\n",
    "end_time = datetime.now()\n",
    "print(f\"Ended at: {end_time}\")"
   ]
  },
  {
   "cell_type": "markdown",
   "id": "fcb7f5cc-a685-4d6f-a281-a5ba43576d02",
   "metadata": {},
   "source": [
    "#### For IVT sample"
   ]
  },
  {
   "cell_type": "code",
   "execution_count": null,
   "id": "ef43627a-0aa6-4593-bbda-108efd219f28",
   "metadata": {},
   "outputs": [],
   "source": [
    "start_time = datetime.now()\n",
    "print(f\"Started at: {start_time}\")\n",
    "samples_metrics_IVT, all_bam_reads = io.get_ref_reg_samples_metrics(\n",
    "    ref_reg,\n",
    "    [(pod5_dr_IVT, bam_fh_IVT)],\n",
    "    metric=\"dwell_trimmean_trimsd\",\n",
    "    sig_map_refiner=sig_map_refiner, signal_type = 'norm'\n",
    ")\n",
    "print(f\"Metrics computed: {', '.join(samples_metrics_IVT[0].keys())}\")\n",
    "print(f\"Shape of metric array: {samples_metrics_IVT[0]['trimmean'].shape}\")\n",
    "# The rows are the reads, the columns are the reference positions\n",
    "end_time = datetime.now()\n",
    "print(f\"Ended at: {end_time}\")"
   ]
  },
  {
   "cell_type": "markdown",
   "id": "86ac0994-f315-41de-b86d-d7111c372407",
   "metadata": {},
   "source": [
    "## 5. Statistical comparison"
   ]
  },
  {
   "cell_type": "markdown",
   "id": "f620efc3-1385-474f-b523-9856a65469dd",
   "metadata": {},
   "source": [
    "The trimmed mean signal levels between the biological and IVT sample are compared per reference position using Mann-Whitney-U testing."
   ]
  },
  {
   "cell_type": "markdown",
   "id": "fb8b1cc9-d614-4939-b4ec-e9f78f161957",
   "metadata": {},
   "source": [
    "### MWU testing with bootstrapping"
   ]
  },
  {
   "cell_type": "code",
   "execution_count": null,
   "id": "05ee2e1c-5883-463f-aee8-520903ceffbc",
   "metadata": {
    "scrolled": true
   },
   "outputs": [],
   "source": [
    "start_time = datetime.now()\n",
    "print(f\"Started at: {start_time}\")\n",
    "\n",
    "all_MWU_results = []\n",
    "# For each subsample of IVT-sample a MWU-test is conducted with the biological sample.\n",
    "for i, subsample in enumerate(subsamples):\n",
    "    # subsample is a list of 50 read ids\n",
    "    # For each create an FilteredReadIndexedBam object\n",
    "    subsample_bam = FilteredReadIndexedBam(bam_path, subsample)\n",
    "\n",
    "    # Compute the samples_metrics for this subsample\n",
    "    print(f\"Computing sample metrics for IVT subsample number  {i + 1}\")\n",
    "    samples_metrics_IVT_norm_subsample, all_bam_reads = io.get_ref_reg_samples_metrics(\n",
    "        ref_reg,\n",
    "        [(pod5_dr_IVT, subsample_bam)],\n",
    "        metric=\"dwell_trimmean_trimsd\",\n",
    "        sig_map_refiner=sig_map_refiner,\n",
    "        signal_type='norm'\n",
    "        )\n",
    "\n",
    "    # Calculate the MWU-statistic for Ctrl vs. this subsample of IVT\n",
    "    print(\"Computing the MWU-statistics for Ctrl with this subsample of IVT-data\")\n",
    "    MWU_results_subsample_df, MWU_sig_positions_subsample = compute_MWU_results(\n",
    "        ref_reg,\n",
    "        samples_metrics_1 = samples_metrics_bio,\n",
    "        samples_metrics_2 = samples_metrics_IVT_norm_subsample,\n",
    "        min_reads = 30)\n",
    "    if MWU_sig_positions_subsample != None:\n",
    "        MWU_results_subsample_df['subsample'] = i  # tag which subsample this is from\n",
    "        all_MWU_results.append(MWU_results_subsample_df)\n",
    "print('Done with calculating all the MWU-tests')\n",
    "combined_df = pd.concat(all_MWU_results, ignore_index=True)\n",
    "\n",
    "# Count how many times each position is significant\n",
    "position_counts = combined_df['position'].value_counts()\n",
    "\n",
    "# Filter all results for only the stable positions, i.e. positions which returned significant in 90% of the bootstrapped subsamples\n",
    "stable_positions = position_counts[position_counts >= 0.9 * 50].index  # 90% of 50 subsamples\n",
    "stable_results = combined_df[combined_df['position'].isin(stable_positions)]\n",
    "\n",
    "# Summarize, e.g., mean and std of p-value, RBC, and medians\n",
    "print('Summarizing the MWU-results')\n",
    "summary = stable_results.groupby('position').agg({\n",
    "    'p_value': ['mean', 'std'],\n",
    "    'adjusted_p_value': ['mean', 'std'],\n",
    "    'RBC': ['mean', 'std'],\n",
    "    'median_trimmean_1': ['mean', 'std'],\n",
    "    'median_trimmean_2': ['mean', 'std'],\n",
    "    'num_sample_1': 'mean',\n",
    "    'num_sample_2': 'mean'\n",
    "}).reset_index()\n",
    "summary.columns = [\n",
    "    'position',\n",
    "    'pval_mean', 'pval_std',\n",
    "    'adjusted_pval_mean', 'adjusted_pval_std',\n",
    "    'RBC_mean', 'RBC_std',\n",
    "    'median_trimmean_1_mean', 'median_trimmean_1_std',\n",
    "    'median_trimmean_2_mean', 'median_trimmean_2_std',\n",
    "    'num_sample_1_mean',\n",
    "    'num_sample_2_mean'\n",
    "]\n",
    "\n",
    "end_time = datetime.now()\n",
    "print(f\"Ended at: {end_time}\")"
   ]
  },
  {
   "cell_type": "code",
   "execution_count": null,
   "id": "9797d735-2479-464e-aba0-4a3f0382d506",
   "metadata": {},
   "outputs": [],
   "source": [
    "print(f\"MWU-testing results:\")\n",
    "\n",
    "print(f\"\\tThe number of significant positions: {len(list(summary['position'].values))}\")\n",
    "print(f\"\\tThe significant positions: {list(summary['position'].values)}\")"
   ]
  },
  {
   "cell_type": "markdown",
   "id": "4574596f-9a6e-4873-ac12-c68ec10ff98a",
   "metadata": {},
   "source": [
    "#### Export these results"
   ]
  },
  {
   "cell_type": "code",
   "execution_count": null,
   "id": "ee500e87-49bc-4874-b412-ddbdaf5e1d30",
   "metadata": {},
   "outputs": [],
   "source": [
    "summary.to_csv(\"path/to/data/Remora_results.csv\", index=False)"
   ]
  },
  {
   "cell_type": "markdown",
   "id": "053b1393-9496-428a-94ba-19d3a4ea43be",
   "metadata": {},
   "source": [
    "### MWU testing without bootstrapping"
   ]
  },
  {
   "cell_type": "code",
   "execution_count": null,
   "id": "a5cc9e3d-f172-4176-9ce6-d8a16dceedf9",
   "metadata": {},
   "outputs": [],
   "source": [
    "MWU_results_df, MWU_sig_positions = compute_MWU_results(\n",
    "        ref_reg,\n",
    "        samples_metrics_1 = samples_metrics_bio,\n",
    "        samples_metrics_2 = samples_metrics_IVT,\n",
    "        min_reads = )\n",
    "print(f\"\\nMWU-testing results without bootstrapping:\")\n",
    "print(f\"\\tThe number of significant positions: {len(MWU_sig_positions)}\")\n",
    "print(f\"\\tThe significant positions: {list(MWU_sig_positions)}\")"
   ]
  },
  {
   "cell_type": "markdown",
   "id": "6c411871-821c-4174-9029-ccc96e989861",
   "metadata": {},
   "source": [
    "## 6. Visualisation"
   ]
  },
  {
   "cell_type": "markdown",
   "id": "ca645033-c672-48e0-b5c4-b47df2a857af",
   "metadata": {},
   "source": [
    "### Some constants to set for plotting"
   ]
  },
  {
   "cell_type": "markdown",
   "id": "b95f90c7-db74-4073-833a-e02d85c0a1d1",
   "metadata": {},
   "source": [
    "Define the colours to use in plotting"
   ]
  },
  {
   "cell_type": "code",
   "execution_count": null,
   "id": "152d618a-d100-4644-aebf-0ffaaea0aa7d",
   "metadata": {},
   "outputs": [],
   "source": [
    "color_bio = \"#009E73\"\n",
    "color_IVT = \"#7851A9\""
   ]
  },
  {
   "cell_type": "markdown",
   "id": "5d532f8d-6df9-4e05-b602-f3cfa59a993f",
   "metadata": {},
   "source": [
    "Define the sequence of the reference regions of interest"
   ]
  },
  {
   "cell_type": "code",
   "execution_count": null,
   "id": "6e7b75d6-b749-42d7-b0f3-7c9302d59228",
   "metadata": {},
   "outputs": [],
   "source": [
    "seq_Glu_CTC_1_1 = \"TCCCTGGTGGTCTAGTGGTTAGGATTCGGCGCTCTCACCGCCGCGGCCCGGGTTCGATTCCCGGTCAGGGAA\"\n",
    "seq_Gly_GCC_2_1 = \"GCATTGGTGGTTCAGTGGTAGAATTCTCGCCTGCCACGCGGGAGGCCCGGGTTCGATTCCCGGCCAATGCA\"\n",
    "seq_Leu_CAA_1_1_WI = \"GTCAGGATGGCCGAGTGGTCTAAGGCGCCAGACTCAAGTTCTGGTCTCCAATGGAGGCGTGGGTTCGAATCCCACTTCTGACA\"\n",
    "seq_Leu_CAA_1_1 = \"GTCAGGATGGCCGAGTGGTCTAAGGCGCCAGACTCAAGCTAAGCTTCCTCCGCGGTGGGGATTCTGGTCTCCAATGGAGGCGTGGGTTCGAATCCCACTTCTGACA\"\n",
    "seq_Leu_CAA_1_2 = \"GTCAGGATGGCCGAGTGGTCTAAGGCGCCAGACTCAAGCTTGGCTTCCTCGTGTTGAGGATTCTGGTCTCCAATGGAGGCGTGGGTTCGAATCCCACTTCTGACA\""
   ]
  },
  {
   "cell_type": "markdown",
   "id": "678f2b6e-95fe-4238-8a26-62049b302ca7",
   "metadata": {},
   "source": [
    "### Line plots: the trimmean signal levels per read"
   ]
  },
  {
   "cell_type": "markdown",
   "id": "2d752d26-ec14-45af-89e1-977a367a0f7b",
   "metadata": {},
   "source": [
    "#### Biological sample"
   ]
  },
  {
   "cell_type": "code",
   "execution_count": null,
   "id": "06022f06-325d-452c-bb01-38a64d8f192d",
   "metadata": {},
   "outputs": [],
   "source": [
    "start_time = datetime.now()\n",
    "print(f\"Started at: {start_time}\")\n",
    "plot_trimmean_signals_giving_metrics_one_sample_with_seq(\n",
    "    ref_reg,\n",
    "    samples_metrics_bio,\n",
    "    xlim_start = 0,\n",
    "    xlim_end = ,\n",
    "    max_reads = None,\n",
    "    signal_type='norm', \n",
    "    color = color_bio, \n",
    "    alpha_lines = 1/10, \n",
    "    highlight_positions = None, \n",
    "    sequence = )\n",
    "end_time = datetime.now()\n",
    "print(f\"Ended at: {end_time}\")"
   ]
  },
  {
   "cell_type": "markdown",
   "id": "ae252c37-d310-482e-a91c-ee0202d1a1bb",
   "metadata": {},
   "source": [
    "#### IVT sample"
   ]
  },
  {
   "cell_type": "code",
   "execution_count": null,
   "id": "ed05574e-f09d-4873-8c6e-087230326d25",
   "metadata": {},
   "outputs": [],
   "source": [
    "start_time = datetime.now()\n",
    "print(f\"Started at: {start_time}\")\n",
    "plot_trimmean_signals_giving_metrics_one_sample_with_seq(\n",
    "    ref_reg,\n",
    "    samples_metrics_IVT, \n",
    "    xlim_start = 0, \n",
    "    xlim_end = ,\n",
    "    max_reads = ,\n",
    "    signal_type='norm', \n",
    "    color = color_IVT,\n",
    "    alpha_lines = 1/20, \n",
    "    sequence = ,\n",
    "    highlight_positions = [])\n",
    "end_time = datetime.now()\n",
    "print(f\"Ended at: {end_time}\")"
   ]
  },
  {
   "cell_type": "markdown",
   "id": "3e35d50b-6a59-41c4-a6d4-57f8bc2992e1",
   "metadata": {},
   "source": [
    "#### Bio vs. IVT sample"
   ]
  },
  {
   "cell_type": "code",
   "execution_count": null,
   "id": "1029b6c6-5506-4238-b25c-99a2c444d001",
   "metadata": {},
   "outputs": [],
   "source": [
    "start_time = datetime.now()\n",
    "print(f\"Started at: {start_time}\")\n",
    "plot_trimmean_signals_two_samples_with_seq(\n",
    "    ref_reg,\n",
    "    samples_metrics_1 = samples_metrics_bio,\n",
    "    samples_metrics_2 = samples_metrics_IVT,\n",
    "    xlim_start=0,\n",
    "    xlim_end=,\n",
    "    signal_type='norm',\n",
    "    max_reads=,\n",
    "    alpha_lines=1/15,\n",
    "    sample_labels=['Biological sample',\"IVT sample\"], sequence =,\n",
    "    highlight_positions = None\n",
    ")\n",
    "end_time = datetime.now()\n",
    "print(f\"Ended at: {end_time}\")"
   ]
  },
  {
   "cell_type": "markdown",
   "id": "71bd4091-905a-4058-9756-5c290187b6c3",
   "metadata": {},
   "source": [
    "### Scatterplots: mean and std of trimmed mean signal levels"
   ]
  },
  {
   "cell_type": "code",
   "execution_count": null,
   "id": "27b78652-e45f-414f-9055-e020eff40ab3",
   "metadata": {},
   "outputs": [],
   "source": [
    "plot_mean_and_sd_of_trimmean_two_samples(\n",
    "    ref_reg,\n",
    "    samples_metrics_1 = samples_metrics_bio,\n",
    "    samples_metrics_2 = samples_metrics_IVT,\n",
    "    xlim_start = 0,\n",
    "    xlim_end = ,\n",
    "    sample_labels=['Biological',\"IVT\"],\n",
    "    signal_type=\"norm\"\n",
    ")"
   ]
  },
  {
   "cell_type": "markdown",
   "id": "337591d4-c834-41d4-bff6-6a24963515fc",
   "metadata": {},
   "source": [
    "### Violin plots"
   ]
  },
  {
   "cell_type": "code",
   "execution_count": null,
   "id": "0ac1d5b6-c19d-4abe-8515-188e2709c0ae",
   "metadata": {},
   "outputs": [],
   "source": [
    "plot_trimmean_violin_two_samples_with_seq(\n",
    "    ref_reg = ref_reg,\n",
    "    samples_metrics_1= samples_metrics_bio,\n",
    "    samples_metrics_2 = samples_metrics_IVT,\n",
    "    sample_labels=['Biological',\"IVT\"],\n",
    "    xlim_start=0,\n",
    "    xlim_end=,\n",
    "    signal_type='norm',\n",
    "    highlight_positions_one_ionic = [],\n",
    "    highlight_positions_two_ionic = [],\n",
    "    highlight_positions_three = [],\n",
    "    highlight_positions_basecalled = [],\n",
    "    sequence = , legend = 'no', title = 'Remora: '\n",
    ")"
   ]
  },
  {
   "cell_type": "code",
   "execution_count": null,
   "id": "8ceda136-ce46-481c-88ce-60f328260238",
   "metadata": {},
   "outputs": [],
   "source": [
    "plot_trimmean_violin_two_samples_with_seq(\n",
    "    ref_reg = ref_reg,\n",
    "    samples_metrics_1= samples_metrics_bio,\n",
    "    samples_metrics_2 = samples_metrics_IVT ,\n",
    "    sample_labels=[\"Biological\",\"IVT\"],\n",
    "    xlim_start=0,\n",
    "    xlim_end= ,\n",
    "    signal_type='norm',\n",
    "\n",
    "    highlight_positions_one_ionic=[],\n",
    "    highlight_positions_two_ionic = [],\n",
    "    highlight_positions_three = [],\n",
    "    highlight_positions_basecalled = [],\n",
    "    highlight_positions_excluded = [],\n",
    "    sequence = seq_Glu_CTC_1_1, legend = 'no', title = 'Remora:'\n",
    ")"
   ]
  }
 ],
 "metadata": {
  "kernelspec": {
   "display_name": "Python (polars_env)",
   "language": "python",
   "name": "polars_env"
  },
  "language_info": {
   "codemirror_mode": {
    "name": "ipython",
    "version": 3
   },
   "file_extension": ".py",
   "mimetype": "text/x-python",
   "name": "python",
   "nbconvert_exporter": "python",
   "pygments_lexer": "ipython3",
   "version": "3.11.13"
  }
 },
 "nbformat": 4,
 "nbformat_minor": 5
}
